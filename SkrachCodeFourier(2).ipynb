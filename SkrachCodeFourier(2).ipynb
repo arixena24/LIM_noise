{
 "cells": [
  {
   "cell_type": "code",
   "execution_count": 1,
   "id": "8fa726c4",
   "metadata": {},
   "outputs": [],
   "source": [
    "#in this version, I will try to get the real and fourier noisemap to match\n",
    "import numpy as np\n",
    "import matplotlib.pyplot as plt\n",
    "import astropy as astro \n",
    "import pandas as pd\n",
    "%matplotlib inline"
   ]
  },
  {
   "cell_type": "code",
   "execution_count": 2,
   "id": "8dd1742a",
   "metadata": {},
   "outputs": [],
   "source": [
    "from pylab import imshow\n",
    "from numpy import random\n",
    "from PIL import Image\n",
    "from scipy.fftpack import fft \n",
    "from scipy.fftpack import ifft \n",
    "from numpy.linalg import inv\n",
    "from __future__ import division"
   ]
  },
  {
   "cell_type": "code",
   "execution_count": 3,
   "id": "1e0ba97f",
   "metadata": {},
   "outputs": [],
   "source": [
    "#hitsmap part \n",
    "#Hitmap=np.random.rand(5,5) #generate random array and graph \n",
    "#np.clip(Hitmap,0,1) \n",
    "Hitmap=[[0.22,0.84,0.57,0.46,0.93],[0.41,0.06,0.72,0.38,0.16],[0.91,0.38,0.67,0.99,0.44],[0.74,0.93,0.62,0.27,0.46],[0.74,0.35,0.85,0.65,0.38]]"
   ]
  },
  {
   "cell_type": "code",
   "execution_count": 4,
   "id": "f25b9cd3",
   "metadata": {},
   "outputs": [
    {
     "name": "stdout",
     "output_type": "stream",
     "text": [
      "Array of Hitmap [[0.22, 0.84, 0.57, 0.46, 0.93], [0.41, 0.06, 0.72, 0.38, 0.16], [0.91, 0.38, 0.67, 0.99, 0.44], [0.74, 0.93, 0.62, 0.27, 0.46], [0.74, 0.35, 0.85, 0.65, 0.38]]\n"
     ]
    },
    {
     "data": {
      "image/png": "[encoded data removed]",
      "text/plain": [
       "<Figure size 432x288 with 2 Axes>"
      ]
     },
     "metadata": {
      "needs_background": "light"
     },
     "output_type": "display_data"
    }
   ],
   "source": [
    "plt.colorbar(imshow(Hitmap))\n",
    "imshow(Hitmap)\n",
    "print('Array of Hitmap',Hitmap)"
   ]
  },
  {
   "cell_type": "code",
   "execution_count": 5,
   "id": "5dd44daf",
   "metadata": {},
   "outputs": [
    {
     "name": "stdout",
     "output_type": "stream",
     "text": [
      "mean of Hitmap 0.5652\n",
      "length of Hitmap 5\n"
     ]
    }
   ],
   "source": [
    "M=np.mean(Hitmap)\n",
    "print('mean of Hitmap',M) \n",
    "length=len(Hitmap)\n",
    "print('length of Hitmap',length)"
   ]
  },
  {
   "cell_type": "code",
   "execution_count": 6,
   "id": "ea6473ae",
   "metadata": {},
   "outputs": [],
   "source": [
    "#fourier and real diverges \n",
    "#Fourrier Space Amplitude"
   ]
  },
  {
   "cell_type": "code",
   "execution_count": 7,
   "id": "01c3ac84",
   "metadata": {},
   "outputs": [],
   "source": [
    "#A_noise"
   ]
  },
  {
   "cell_type": "code",
   "execution_count": 8,
   "id": "6a3d71b0",
   "metadata": {},
   "outputs": [],
   "source": [
    "Spectrum=(np.abs(np.fft.fft(Hitmap)))\n",
    "#Inverse=(np.abs(inv(np.matrix(Hitmap)))) \n",
    "\n",
    "A_noise=Spectrum#*Inverse "
   ]
  },
  {
   "cell_type": "code",
   "execution_count": 9,
   "id": "36b95e94",
   "metadata": {},
   "outputs": [],
   "source": [
    "#print(np.abs(np.fft.fft(Hitmap)))\n",
    "#print(np.abs(inv(np.matrix(Hitmap))))\n",
    "#print((np.abs(np.fft.fft(Hitmap)))*(np.abs(inv(np.matrix(Hitmap)))))\n",
    "#imshow(((np.abs(np.fft.fft(Hitmap)))*(np.abs(inv(np.matrix(Hitmap))))))\n",
    "#a=(np.abs(np.fft.fft(Hitmap))) * (np.abs(inv(np.matrix(Hitmap))))\n",
    "#print('a',a)"
   ]
  },
  {
   "cell_type": "code",
   "execution_count": 10,
   "id": "fcd447c7",
   "metadata": {},
   "outputs": [],
   "source": [
    "#Spectrum=(np.fft.fft(Hitmap)) #fft of Hitmap\n",
    "#Spectrum=np.fft.fft2(Hitmap) #fft2 of Hitmap\n",
    "#Spectrum=np.fft.fftn(Hitmap) #fftn of Hitmap\n",
    "#print('Spectrum',Spectrum)\n",
    "\n",
    "#Inverse=np.abs(inv(np.matrix(Hitmap)))\n",
    "#print('Inverse',Inverse)\n",
    "#Transpose=np.transpose(Hitmap)\n",
    "\n",
    "#A_noise= np.abs(Spectrum*Inverse)\n",
    "#A_noise=np.abs(A_n*A_n)#squaring the amplitude\n",
    "#print('A_noise',A_noise) "
   ]
  },
  {
   "cell_type": "code",
   "execution_count": 11,
   "id": "67fd53a8",
   "metadata": {},
   "outputs": [
    {
     "name": "stdout",
     "output_type": "stream",
     "text": [
      "Spectrum [[3.02       0.06955398 0.9074482  0.9074482  0.06955398]\n",
      " [1.73       0.42504253 0.68785089 0.68785089 0.42504253]\n",
      " [3.39       0.3038877  0.80582397 0.80582397 0.3038877 ]\n",
      " [3.02       0.79252957 0.12327564 0.12327564 0.79252957]\n",
      " [2.97       0.26344124 0.64722385 0.64722385 0.26344124]]\n"
     ]
    },
    {
     "data": {
      "text/plain": [
       "<matplotlib.image.AxesImage at 0x7f8dda0d1210>"
      ]
     },
     "execution_count": 11,
     "metadata": {},
     "output_type": "execute_result"
    },
    {
     "data": {
      "image/png": "[encoded data removed]",
      "text/plain": [
       "<Figure size 432x288 with 2 Axes>"
      ]
     },
     "metadata": {
      "needs_background": "light"
     },
     "output_type": "display_data"
    }
   ],
   "source": [
    "print('Spectrum',Spectrum)\n",
    "plt.colorbar(imshow(Spectrum))\n",
    "imshow(Spectrum)"
   ]
  },
  {
   "cell_type": "code",
   "execution_count": 12,
   "id": "33c0bdce",
   "metadata": {},
   "outputs": [],
   "source": [
    "#print('Inverse',Inverse)\n",
    "#plt.colorbar(imshow(Inverse))\n",
    "#imshow(Inverse)"
   ]
  },
  {
   "cell_type": "code",
   "execution_count": 13,
   "id": "ba281b6e",
   "metadata": {},
   "outputs": [
    {
     "name": "stdout",
     "output_type": "stream",
     "text": [
      "A_noise [[3.02       0.06955398 0.9074482  0.9074482  0.06955398]\n",
      " [1.73       0.42504253 0.68785089 0.68785089 0.42504253]\n",
      " [3.39       0.3038877  0.80582397 0.80582397 0.3038877 ]\n",
      " [3.02       0.79252957 0.12327564 0.12327564 0.79252957]\n",
      " [2.97       0.26344124 0.64722385 0.64722385 0.26344124]]\n"
     ]
    },
    {
     "data": {
      "text/plain": [
       "<matplotlib.image.AxesImage at 0x7f8dc8953b80>"
      ]
     },
     "execution_count": 13,
     "metadata": {},
     "output_type": "execute_result"
    },
    {
     "data": {
      "image/png": "[encoded data removed]",
      "text/plain": [
       "<Figure size 432x288 with 2 Axes>"
      ]
     },
     "metadata": {
      "needs_background": "light"
     },
     "output_type": "display_data"
    }
   ],
   "source": [
    "print('A_noise',A_noise)\n",
    "plt.colorbar(imshow(A_noise))\n",
    "imshow(A_noise)"
   ]
  },
  {
   "cell_type": "code",
   "execution_count": 14,
   "id": "ba4c3732",
   "metadata": {},
   "outputs": [],
   "source": [
    "def Noisemap(Hitmap,A_noise): \n",
    "    norm=np.random.normal(5,5)\n",
    "    np.clip(norm,0,1) \n",
    "    #print('Norm',norm)\n",
    "    #Inital = np.abs(A_noise * norm)\n",
    "    Final = np.abs((np.fft.ifft(A_noise))/Hitmap)#inverse fourier transform to turn into real space\n",
    "   # print('Inital',Inital)\n",
    "    print('Final',Final)   \n",
    "    plt.colorbar(imshow(Final))\n",
    "    imshow(Final)\n",
    "    #plt.savefig('noisemap.png') #saves figure in noisemap folder"
   ]
  },
  {
   "cell_type": "code",
   "execution_count": 15,
   "id": "2ec90277",
   "metadata": {},
   "outputs": [
    {
     "name": "stdout",
     "output_type": "stream",
     "text": [
      "Final [[4.52182216 0.37969159 1.21694496 1.50795353 0.34294724]\n",
      " [1.92965212 2.93241538 0.4076061  0.7723063  1.09965577]\n",
      " [1.23284029 1.19682229 1.01382865 0.68612646 1.03361925]\n",
      " [1.31124606 0.71190237 0.5851125  1.34359167 1.43928088]\n",
      " [1.2949541  1.19176312 0.69264693 0.90576906 1.09767655]]\n"
     ]
    },
    {
     "data": {
      "image/png": "[encoded data removed]",
      "text/plain": [
       "<Figure size 432x288 with 2 Axes>"
      ]
     },
     "metadata": {
      "needs_background": "light"
     },
     "output_type": "display_data"
    }
   ],
   "source": [
    "Noisemap(Hitmap,A_noise)"
   ]
  },
  {
   "cell_type": "code",
   "execution_count": 16,
   "id": "2d38e301",
   "metadata": {},
   "outputs": [],
   "source": [
    "#the noisemap is consistent for every run"
   ]
  }
 ],
 "metadata": {
  "kernelspec": {
   "display_name": "Python 3 (ipykernel)",
   "language": "python",
   "name": "python3"
  },
  "language_info": {
   "codemirror_mode": {
    "name": "ipython",
    "version": 3
   },
   "file_extension": ".py",
   "mimetype": "text/x-python",
   "name": "python",
   "nbconvert_exporter": "python",
   "pygments_lexer": "ipython3",
   "version": "3.10.4"
  }
 },
 "nbformat": 4,
 "nbformat_minor": 5
}
