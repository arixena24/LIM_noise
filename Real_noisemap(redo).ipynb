{
 "cells": [
  {
   "cell_type": "code",
   "execution_count": 34,
   "id": "3d5f2b18",
   "metadata": {},
   "outputs": [],
   "source": [
    "import numpy as np\n",
    "import matplotlib.pyplot as plt\n",
    "import astropy as astro \n",
    "import pandas as pd\n",
    "%matplotlib inline"
   ]
  },
  {
   "cell_type": "code",
   "execution_count": 35,
   "id": "a6541880",
   "metadata": {},
   "outputs": [],
   "source": [
    "from pylab import imshow\n",
    "from numpy import random\n",
    "from PIL import Image\n",
    "from numpy.linalg import inv\n",
    "from __future__ import division"
   ]
  },
  {
   "cell_type": "code",
   "execution_count": 36,
   "id": "d5ac6f56",
   "metadata": {},
   "outputs": [
    {
     "name": "stdout",
     "output_type": "stream",
     "text": [
      "Array of Hitmap [[0.22, 0.84, 0.57, 0.46, 0.93], [0.41, 0.06, 0.72, 0.38, 0.16], [0.91, 0.38, 0.67, 0.99, 0.44], [0.74, 0.93, 0.62, 0.27, 0.46], [0.74, 0.35, 0.85, 0.65, 0.38]]\n"
     ]
    }
   ],
   "source": [
    "#Hitmap=np.random.rand(10,10) #generate random array and graph \n",
    "#np.clip(Hitmap,0,1) #range for hitmap\n",
    "Hitmap=[[0.22,0.84,0.57,0.46,0.93],[0.41,0.06,0.72,0.38,0.16],[0.91,0.38,0.67,0.99,0.44],[0.74,0.93,0.62,0.27,0.46],[0.74,0.35,0.85,0.65,0.38]]\n",
    "print('Array of Hitmap',Hitmap)"
   ]
  },
  {
   "cell_type": "code",
   "execution_count": 37,
   "id": "ad014369",
   "metadata": {},
   "outputs": [
    {
     "data": {
      "text/plain": [
       "<matplotlib.image.AxesImage at 0x7fe0488e91e0>"
      ]
     },
     "execution_count": 37,
     "metadata": {},
     "output_type": "execute_result"
    },
    {
     "data": {
      "image/png": "[encoded data removed]",
      "text/plain": [
       "<Figure size 432x288 with 2 Axes>"
      ]
     },
     "metadata": {
      "needs_background": "light"
     },
     "output_type": "display_data"
    }
   ],
   "source": [
    "plt.colorbar(imshow(Hitmap))\n",
    "imshow(Hitmap)"
   ]
  },
  {
   "cell_type": "code",
   "execution_count": 38,
   "id": "365dad8b",
   "metadata": {},
   "outputs": [
    {
     "name": "stdout",
     "output_type": "stream",
     "text": [
      "Length of Hitmap 5\n",
      "Mean of Hitmap 0.5652\n"
     ]
    }
   ],
   "source": [
    "length=len(Hitmap)\n",
    "print('Length of Hitmap',length)\n",
    "M=np.mean(Hitmap)#mean \n",
    "print('Mean of Hitmap',M)"
   ]
  },
  {
   "cell_type": "code",
   "execution_count": 39,
   "id": "7398fd95",
   "metadata": {},
   "outputs": [
    {
     "name": "stdout",
     "output_type": "stream",
     "text": [
      "A_noise [[3.08327592e-01 2.11940927e-01 2.28566380e-01 1.78517454e-04\n",
      "  9.89976946e-02]\n",
      " [4.05397018e-01 7.27445894e-02 5.22929131e-01 3.38915741e-01\n",
      "  1.79070580e-01]\n",
      " [3.29123992e-01 2.02256007e-01 4.94924813e-01 1.89429319e-01\n",
      "  4.60895351e-02]\n",
      " [3.56271478e-01 3.40535638e-01 1.86772700e-01 4.94197894e-01\n",
      "  5.59972490e-01]\n",
      " [5.28209168e-01 2.22045329e-01 2.81113709e-01 6.09456022e-02\n",
      "  5.82329145e-02]]\n"
     ]
    }
   ],
   "source": [
    "rand=np.random.rand(5,5)#change to match Hitmap dimensions \n",
    "np.clip(rand,0,1) #range of random values\n",
    "A_noise=np.abs(M*rand)#Noise is the mean times a random array, must be changed as Hitmap changes \n",
    "print('A_noise',A_noise)"
   ]
  },
  {
   "cell_type": "code",
   "execution_count": 40,
   "id": "7d22e548",
   "metadata": {},
   "outputs": [
    {
     "data": {
      "text/plain": [
       "<matplotlib.image.AxesImage at 0x7fe0300ebc70>"
      ]
     },
     "execution_count": 40,
     "metadata": {},
     "output_type": "execute_result"
    },
    {
     "data": {
      "image/png": "[encoded data removed]",
      "text/plain": [
       "<Figure size 432x288 with 2 Axes>"
      ]
     },
     "metadata": {
      "needs_background": "light"
     },
     "output_type": "display_data"
    }
   ],
   "source": [
    "plt.colorbar(imshow(A_noise))\n",
    "imshow(A_noise)"
   ]
  },
  {
   "cell_type": "code",
   "execution_count": 41,
   "id": "153e42bd",
   "metadata": {},
   "outputs": [],
   "source": [
    "def Noisemap(Hitmap,A_noise): \n",
    "    rand=np.random.rand(5,5) #generate random array and graph \n",
    "    np.clip(rand,0,1) #range for hitmap\n",
    "    print('rand',rand)\n",
    "    Inital=A_noise*rand\n",
    "    Final=Inital/Hitmap\n",
    "    print('Inital',Inital)\n",
    "    print('Noisemap',Final)\n",
    "    plt.colorbar(imshow(Final))\n",
    "    imshow(Final)"
   ]
  },
  {
   "cell_type": "code",
   "execution_count": 42,
   "id": "8ca4a49c",
   "metadata": {},
   "outputs": [
    {
     "name": "stdout",
     "output_type": "stream",
     "text": [
      "rand [[0.20846706 0.66491361 0.50042421 0.18590091 0.70059349]\n",
      " [0.50028985 0.98781    0.73908927 0.85299023 0.02116511]\n",
      " [0.83434666 0.72194421 0.482534   0.82699308 0.41267837]\n",
      " [0.10044452 0.34541159 0.80128103 0.31844566 0.66635518]\n",
      " [0.90919337 0.85588442 0.95533374 0.13991793 0.21723116]]\n",
      "Inital [[6.42761459e-02 1.40922407e-01 1.14380150e-01 3.31865578e-05\n",
      "  6.93571406e-02]\n",
      " [2.02816011e-01 7.18578332e-02 3.86491312e-01 2.89091815e-01\n",
      "  3.79004803e-03]\n",
      " [2.74603504e-01 1.46017553e-01 2.38818048e-01 1.56656736e-01\n",
      "  1.90201543e-02]\n",
      " [3.57855164e-02 1.17624956e-01 1.49657421e-01 1.57375176e-01\n",
      "  3.73140568e-01]\n",
      " [4.80244276e-01 1.90045138e-01 2.68557411e-01 8.52738280e-03\n",
      "  1.26500037e-02]]\n",
      "Noisemap [[2.92164300e-01 1.67764770e-01 2.00666930e-01 7.21446909e-05\n",
      "  7.45775705e-02]\n",
      " [4.94673199e-01 1.19763055e+00 5.36793488e-01 7.60767935e-01\n",
      "  2.36878002e-02]\n",
      " [3.01762092e-01 3.84256718e-01 3.56444848e-01 1.58239127e-01\n",
      "  4.32276233e-02]\n",
      " [4.83588059e-02 1.26478448e-01 2.41382937e-01 5.82871023e-01\n",
      "  8.11175148e-01]\n",
      " [6.48978752e-01 5.42986108e-01 3.15949895e-01 1.31190505e-02\n",
      "  3.32894834e-02]]\n"
     ]
    },
    {
     "data": {
      "image/png": "[encoded data removed]",
      "text/plain": [
       "<Figure size 432x288 with 2 Axes>"
      ]
     },
     "metadata": {
      "needs_background": "light"
     },
     "output_type": "display_data"
    }
   ],
   "source": [
    "Noisemap(Hitmap,A_noise)"
   ]
  },
  {
   "cell_type": "code",
   "execution_count": null,
   "id": "9846f4e3",
   "metadata": {},
   "outputs": [],
   "source": []
  }
 ],
 "metadata": {
  "kernelspec": {
   "display_name": "Python 3 (ipykernel)",
   "language": "python",
   "name": "python3"
  },
  "language_info": {
   "codemirror_mode": {
    "name": "ipython",
    "version": 3
   },
   "file_extension": ".py",
   "mimetype": "text/x-python",
   "name": "python",
   "nbconvert_exporter": "python",
   "pygments_lexer": "ipython3",
   "version": "3.10.4"
  }
 },
 "nbformat": 4,
 "nbformat_minor": 5
}
