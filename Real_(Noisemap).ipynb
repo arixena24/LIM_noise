{
 "cells": [
  {
   "cell_type": "code",
   "execution_count": 99,
   "id": "15ab2820",
   "metadata": {},
   "outputs": [],
   "source": [
    "import numpy as np\n",
    "import matplotlib.pyplot as plt\n",
    "import astropy as astro \n",
    "import pandas as pd\n",
    "%matplotlib inline"
   ]
  },
  {
   "cell_type": "code",
   "execution_count": 100,
   "id": "853d9569",
   "metadata": {},
   "outputs": [],
   "source": [
    "from pylab import imshow\n",
    "from numpy import random\n",
    "from PIL import Image\n",
    "from numpy.linalg import inv\n",
    "from __future__ import division"
   ]
  },
  {
   "cell_type": "code",
   "execution_count": 101,
   "id": "a2316d54",
   "metadata": {},
   "outputs": [
    {
     "name": "stdout",
     "output_type": "stream",
     "text": [
      "Array of Hitmap [[0.22, 0.84, 0.57, 0.46, 0.93], [0.41, 0.06, 0.72, 0.38, 0.16], [0.91, 0.38, 0.67, 0.99, 0.44], [0.74, 0.93, 0.62, 0.27, 0.46], [0.74, 0.35, 0.85, 0.65, 0.38]]\n"
     ]
    }
   ],
   "source": [
    "#hitsmap part \n",
    "#Hitmap=np.random.rand(10,10) #generate random array and graph \n",
    "#np.clip(Hitmap,0,1) #range for hitmap\n",
    "#Hitmap=[[0.22,0.84,0.55],[0.41,0.06,0.67],[0.90,0.72,0.33]]\n",
    "Hitmap=[[0.22,0.84,0.57,0.46,0.93],[0.41,0.06,0.72,0.38,0.16],[0.91,0.38,0.67,0.99,0.44],[0.74,0.93,0.62,0.27,0.46],[0.74,0.35,0.85,0.65,0.38]]\n",
    "print('Array of Hitmap',Hitmap)"
   ]
  },
  {
   "cell_type": "code",
   "execution_count": 102,
   "id": "6871be17",
   "metadata": {},
   "outputs": [
    {
     "data": {
      "text/plain": [
       "<matplotlib.image.AxesImage at 0x7f8f894f3a90>"
      ]
     },
     "execution_count": 102,
     "metadata": {},
     "output_type": "execute_result"
    },
    {
     "data": {
      "image/png": "[encoded data removed]",
      "text/plain": [
       "<Figure size 432x288 with 2 Axes>"
      ]
     },
     "metadata": {
      "needs_background": "light"
     },
     "output_type": "display_data"
    }
   ],
   "source": [
    "plt.colorbar(imshow(Hitmap))\n",
    "imshow(Hitmap)"
   ]
  },
  {
   "cell_type": "code",
   "execution_count": 103,
   "id": "0d3c75e9",
   "metadata": {},
   "outputs": [
    {
     "name": "stdout",
     "output_type": "stream",
     "text": [
      "Length of Hitmap 5\n",
      "Mean of Hitmap 0.5652\n"
     ]
    }
   ],
   "source": [
    "length=len(Hitmap)\n",
    "print('Length of Hitmap',length)\n",
    "M=np.mean(Hitmap)#mean \n",
    "print('Mean of Hitmap',M)"
   ]
  },
  {
   "cell_type": "code",
   "execution_count": 104,
   "id": "56271c76",
   "metadata": {},
   "outputs": [],
   "source": [
    "#rand=np.random.rand(5,5)#change to match Hitmap dimensions \n",
    "#np.clip(rand,0,1) #range of random values\n",
    "#A_noise=np.abs(M*rand)#Noise is the mean times a random array, must be changed as Hitmap changes \n",
    "#print('A_noise',A_noise)"
   ]
  },
  {
   "cell_type": "code",
   "execution_count": 105,
   "id": "771093cf",
   "metadata": {},
   "outputs": [
    {
     "name": "stdout",
     "output_type": "stream",
     "text": [
      "A_noise [[0.53256572 0.33914276 0.1470772  0.22692239 0.04022427]\n",
      " [0.10249416 0.29851443 0.16266707 0.49597274 0.23001421]\n",
      " [0.49770959 0.3599256  0.48192481 0.26156036 0.315054  ]\n",
      " [0.07990347 0.12850267 0.47293367 0.42829172 0.19353487]\n",
      " [0.24785432 0.27545967 0.24497214 0.47731781 0.35092291]]\n"
     ]
    }
   ],
   "source": [
    "rand=np.random.rand(5,5)#change to match Hitmap dimensions \n",
    "np.clip(rand,0,1) #range of random values\n",
    "A_noise=np.abs(M*rand)#Noise is the mean times a random array, must be changed as Hitmap changes \n",
    "print('A_noise',A_noise)"
   ]
  },
  {
   "cell_type": "code",
   "execution_count": 106,
   "id": "59071f8c",
   "metadata": {},
   "outputs": [
    {
     "data": {
      "text/plain": [
       "<matplotlib.image.AxesImage at 0x7f8f497c9d50>"
      ]
     },
     "execution_count": 106,
     "metadata": {},
     "output_type": "execute_result"
    },
    {
     "data": {
      "image/png": "[encoded data removed]",
      "text/plain": [
       "<Figure size 432x288 with 2 Axes>"
      ]
     },
     "metadata": {
      "needs_background": "light"
     },
     "output_type": "display_data"
    }
   ],
   "source": [
    "plt.colorbar(imshow(A_noise))\n",
    "imshow(A_noise)"
   ]
  },
  {
   "cell_type": "code",
   "execution_count": 107,
   "id": "da29fe1f",
   "metadata": {},
   "outputs": [],
   "source": [
    "#def Noisemap(Hitmap,A_noise): \n",
    " #   norm=np.random.normal(M,length)\n",
    "  #  np.clip(norm,0,1) \n",
    "   # Inital = np.abs(A_noise * norm)\n",
    "    #Final = np.abs(Inital/Hitmap)\n",
    "    #print('Inital',Inital)\n",
    "    #print('Final',Final)   \n",
    "    #plt.colorbar(imshow(Final))\n",
    "    #imshow(Final)"
   ]
  },
  {
   "cell_type": "code",
   "execution_count": 108,
   "id": "0274b3c9",
   "metadata": {},
   "outputs": [],
   "source": [
    "def Noisemap(Hitmap,A_noise): \n",
    "    rand=np.random.rand(5,5) #generate random array and graph \n",
    "    np.clip(rand,0,1) #range for hitmap\n",
    "    print('rand',rand)\n",
    "    Inital=A_noise*rand\n",
    "    Final=np.abs(Inital/Hitmap)\n",
    "    print('Inital',Inital)\n",
    "    print('Noisemap',Final)\n",
    "    plt.colorbar(imshow(Final))\n",
    "    imshow(Final)"
   ]
  },
  {
   "cell_type": "code",
   "execution_count": 109,
   "id": "72e9cce9",
   "metadata": {},
   "outputs": [
    {
     "name": "stdout",
     "output_type": "stream",
     "text": [
      "rand [[0.41909416 0.65490851 0.81866361 0.31463253 0.43310104]\n",
      " [0.76958928 0.73408241 0.65033779 0.74957142 0.5067299 ]\n",
      " [0.59767405 0.29585128 0.16634448 0.09084859 0.75478112]\n",
      " [0.05892056 0.09023411 0.21625139 0.46877832 0.45475407]\n",
      " [0.36624569 0.17354993 0.01499189 0.68216569 0.63408836]]\n",
      "Inital [[0.22319518 0.22210748 0.12040675 0.07139717 0.01742117]\n",
      " [0.07887841 0.21913419 0.10578854 0.37176699 0.11655508]\n",
      " [0.29746811 0.10648445 0.08016553 0.02376239 0.23779681]\n",
      " [0.00470796 0.01159532 0.10227256 0.20077387 0.08801077]\n",
      " [0.09077558 0.04780601 0.0036726  0.32560983 0.22251613]]\n",
      "Noisemap [[1.01452356 0.26441367 0.21123992 0.15521123 0.01873244]\n",
      " [0.19238636 3.65223654 0.14692853 0.97833418 0.72846925]\n",
      " [0.32688803 0.28022223 0.11965005 0.02400241 0.5404473 ]\n",
      " [0.0063621  0.01246809 0.16495575 0.74360694 0.19132775]\n",
      " [0.1226697  0.13658859 0.0043207  0.50093821 0.58556876]]\n"
     ]
    },
    {
     "data": {
      "image/png": "[encoded data removed]",
      "text/plain": [
       "<Figure size 432x288 with 2 Axes>"
      ]
     },
     "metadata": {
      "needs_background": "light"
     },
     "output_type": "display_data"
    }
   ],
   "source": [
    "Noisemap(Hitmap,A_noise)"
   ]
  },
  {
   "cell_type": "code",
   "execution_count": null,
   "id": "188aad53",
   "metadata": {},
   "outputs": [],
   "source": []
  }
 ],
 "metadata": {
  "kernelspec": {
   "display_name": "Python 3 (ipykernel)",
   "language": "python",
   "name": "python3"
  },
  "language_info": {
   "codemirror_mode": {
    "name": "ipython",
    "version": 3
   },
   "file_extension": ".py",
   "mimetype": "text/x-python",
   "name": "python",
   "nbconvert_exporter": "python",
   "pygments_lexer": "ipython3",
   "version": "3.10.4"
  }
 },
 "nbformat": 4,
 "nbformat_minor": 5
}
