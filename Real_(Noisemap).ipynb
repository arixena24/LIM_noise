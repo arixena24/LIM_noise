{
 "cells": [
  {
   "cell_type": "code",
   "execution_count": 804,
   "id": "15ab2820",
   "metadata": {},
   "outputs": [],
   "source": [
    "import numpy as np\n",
    "import matplotlib.pyplot as plt\n",
    "import astropy as astro \n",
    "import pandas as pd\n",
    "%matplotlib inline"
   ]
  },
  {
   "cell_type": "code",
   "execution_count": 805,
   "id": "853d9569",
   "metadata": {},
   "outputs": [],
   "source": [
    "from pylab import imshow\n",
    "from numpy import random\n",
    "from PIL import Image\n",
    "from numpy.linalg import inv\n",
    "from __future__ import division"
   ]
  },
  {
   "cell_type": "code",
   "execution_count": 806,
   "id": "a2316d54",
   "metadata": {},
   "outputs": [
    {
     "name": "stdout",
     "output_type": "stream",
     "text": [
      "[[0.5, 0.82, 0.36], [0.4, 0.38, 0.67], [0.66, 0.8, 0.33]]\n"
     ]
    }
   ],
   "source": [
    "#hitsmap part \n",
    "#Hitmap=np.random.rand(5,5) #generate random array and graph \n",
    "Hitmap=[[0.50,0.82,0.36],[0.40,0.38,0.67],[0.66,0.80,0.33]]\n",
    "print(Hitmap)"
   ]
  },
  {
   "cell_type": "code",
   "execution_count": 807,
   "id": "6871be17",
   "metadata": {},
   "outputs": [
    {
     "data": {
      "text/plain": [
       "<matplotlib.image.AxesImage at 0x7fcddcfe1000>"
      ]
     },
     "execution_count": 807,
     "metadata": {},
     "output_type": "execute_result"
    },
    {
     "data": {
      "image/png": "[encoded data removed]",
      "text/plain": [
       "<Figure size 432x288 with 2 Axes>"
      ]
     },
     "metadata": {
      "needs_background": "light"
     },
     "output_type": "display_data"
    }
   ],
   "source": [
    "plt.colorbar(imshow(Hitmap))\n",
    "imshow(Hitmap)"
   ]
  },
  {
   "cell_type": "code",
   "execution_count": 808,
   "id": "0d3c75e9",
   "metadata": {},
   "outputs": [
    {
     "name": "stdout",
     "output_type": "stream",
     "text": [
      "3\n",
      "0.5466666666666666\n"
     ]
    }
   ],
   "source": [
    "length=len(Hitmap)\n",
    "print(length)\n",
    "M=np.mean(Hitmap)#mean \n",
    "print(M)"
   ]
  },
  {
   "cell_type": "code",
   "execution_count": 809,
   "id": "56271c76",
   "metadata": {},
   "outputs": [
    {
     "name": "stdout",
     "output_type": "stream",
     "text": [
      "[[0.12821924 0.13323381 0.00826387]\n",
      " [0.12712462 0.16164052 0.11738864]\n",
      " [0.46024141 0.35822984 0.42286833]]\n"
     ]
    }
   ],
   "source": [
    "A_noise=np.abs(M*np.random.rand(3,3))#Noise is the mean times a random array, must be changed as Hitmap changes \n",
    "print(A_noise)"
   ]
  },
  {
   "cell_type": "code",
   "execution_count": 810,
   "id": "59071f8c",
   "metadata": {},
   "outputs": [
    {
     "data": {
      "text/plain": [
       "<matplotlib.image.AxesImage at 0x7fcddd09a020>"
      ]
     },
     "execution_count": 810,
     "metadata": {},
     "output_type": "execute_result"
    },
    {
     "data": {
      "image/png": "[encoded data removed]",
      "text/plain": [
       "<Figure size 432x288 with 2 Axes>"
      ]
     },
     "metadata": {
      "needs_background": "light"
     },
     "output_type": "display_data"
    }
   ],
   "source": [
    "plt.colorbar(imshow(A_noise))\n",
    "imshow(A_noise)"
   ]
  },
  {
   "cell_type": "code",
   "execution_count": 811,
   "id": "da29fe1f",
   "metadata": {},
   "outputs": [],
   "source": [
    "def Noisemap(Hitmap,A_noise): \n",
    "    Inital = np.abs(A_noise * np.random.normal(M,length))\n",
    "    Final = np.abs(Inital/Hitmap)\n",
    "    print('Inital',Inital)\n",
    "    print('Final',Final)   \n",
    "    plt.colorbar(imshow(Final))\n",
    "    imshow(Final)"
   ]
  },
  {
   "cell_type": "code",
   "execution_count": 812,
   "id": "72e9cce9",
   "metadata": {},
   "outputs": [
    {
     "name": "stdout",
     "output_type": "stream",
     "text": [
      "Inital [[0.49457645 0.51391902 0.03187598]\n",
      " [0.4903542  0.62349143 0.45279988]\n",
      " [1.77527619 1.38178984 1.63111805]]\n",
      "Final [[0.98915291 0.62673051 0.08854438]\n",
      " [1.22588551 1.64076692 0.67582072]\n",
      " [2.68981241 1.72723729 4.94278198]]\n"
     ]
    },
    {
     "data": {
      "image/png": "[encoded data removed]",
      "text/plain": [
       "<Figure size 432x288 with 2 Axes>"
      ]
     },
     "metadata": {
      "needs_background": "light"
     },
     "output_type": "display_data"
    }
   ],
   "source": [
    "Noisemap(Hitmap,A_noise)"
   ]
  },
  {
   "cell_type": "code",
   "execution_count": null,
   "id": "188aad53",
   "metadata": {},
   "outputs": [],
   "source": []
  }
 ],
 "metadata": {
  "kernelspec": {
   "display_name": "Python 3 (ipykernel)",
   "language": "python",
   "name": "python3"
  },
  "language_info": {
   "codemirror_mode": {
    "name": "ipython",
    "version": 3
   },
   "file_extension": ".py",
   "mimetype": "text/x-python",
   "name": "python",
   "nbconvert_exporter": "python",
   "pygments_lexer": "ipython3",
   "version": "3.10.4"
  }
 },
 "nbformat": 4,
 "nbformat_minor": 5
}
