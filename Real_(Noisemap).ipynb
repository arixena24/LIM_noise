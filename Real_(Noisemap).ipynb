{
 "cells": [
  {
   "cell_type": "code",
   "execution_count": 167,
   "id": "15ab2820",
   "metadata": {},
   "outputs": [],
   "source": [
    "import numpy as np\n",
    "import matplotlib.pyplot as plt\n",
    "import astropy as astro \n",
    "import pandas as pd\n",
    "%matplotlib inline"
   ]
  },
  {
   "cell_type": "code",
   "execution_count": 168,
   "id": "853d9569",
   "metadata": {},
   "outputs": [],
   "source": [
    "from pylab import imshow\n",
    "from numpy import random\n",
    "from PIL import Image\n",
    "from numpy.linalg import inv\n",
    "from __future__ import division"
   ]
  },
  {
   "cell_type": "code",
   "execution_count": 169,
   "id": "a2316d54",
   "metadata": {},
   "outputs": [
    {
     "name": "stdout",
     "output_type": "stream",
     "text": [
      "Array of Hitmap [[0.22, 0.84, 0.57, 0.46, 0.93], [0.41, 0.06, 0.72, 0.38, 0.16], [0.91, 0.38, 0.67, 0.99, 0.44], [0.74, 0.93, 0.62, 0.27, 0.46], [0.74, 0.35, 0.85, 0.65, 0.38]]\n"
     ]
    }
   ],
   "source": [
    "#hitsmap part \n",
    "#Hitmap=np.random.rand(100,100) #generate random array and graph \n",
    "#np.clip(Hitmap,0,1) #range for hitmap\n",
    "#Hitmap=[[0.22,0.84,0.55],[0.41,0.06,0.67],[0.90,0.72,0.33]]\n",
    "Hitmap=[[0.22,0.84,0.57,0.46,0.93],[0.41,0.06,0.72,0.38,0.16],[0.91,0.38,0.67,0.99,0.44],[0.74,0.93,0.62,0.27,0.46],[0.74,0.35,0.85,0.65,0.38]]\n",
    "print('Array of Hitmap',Hitmap)"
   ]
  },
  {
   "cell_type": "code",
   "execution_count": 170,
   "id": "6871be17",
   "metadata": {},
   "outputs": [
    {
     "data": {
      "text/plain": [
       "<matplotlib.image.AxesImage at 0x7f8f18356b30>"
      ]
     },
     "execution_count": 170,
     "metadata": {},
     "output_type": "execute_result"
    },
    {
     "data": {
      "image/png": "[encoded data removed]",
      "text/plain": [
       "<Figure size 432x288 with 2 Axes>"
      ]
     },
     "metadata": {
      "needs_background": "light"
     },
     "output_type": "display_data"
    }
   ],
   "source": [
    "plt.colorbar(imshow(Hitmap))\n",
    "imshow(Hitmap)"
   ]
  },
  {
   "cell_type": "code",
   "execution_count": 171,
   "id": "0d3c75e9",
   "metadata": {},
   "outputs": [
    {
     "name": "stdout",
     "output_type": "stream",
     "text": [
      "Length of Hitmap 5\n",
      "Mean of Hitmap 0.5652\n"
     ]
    }
   ],
   "source": [
    "length=len(Hitmap)\n",
    "print('Length of Hitmap',length)\n",
    "M=np.mean(Hitmap)#mean \n",
    "print('Mean of Hitmap',M)"
   ]
  },
  {
   "cell_type": "code",
   "execution_count": 172,
   "id": "56271c76",
   "metadata": {},
   "outputs": [],
   "source": [
    "#rand=np.random.rand(5,5)#change to match Hitmap dimensions \n",
    "#np.clip(rand,0,1) #range of random values\n",
    "#A_noise=np.abs(M*rand)#Noise is the mean times a random array, must be changed as Hitmap changes \n",
    "#print('A_noise',A_noise)"
   ]
  },
  {
   "cell_type": "code",
   "execution_count": 173,
   "id": "5c1e493b",
   "metadata": {},
   "outputs": [
    {
     "name": "stdout",
     "output_type": "stream",
     "text": [
      "A_noise [[0.14049378 0.15479513 0.19554426 0.31264458 0.4206114 ]\n",
      " [0.50744491 0.17140028 0.088817   0.14713962 0.3905367 ]\n",
      " [0.02995602 0.20027747 0.15207479 0.37706692 0.09424157]\n",
      " [0.23083145 0.30833643 0.11167123 0.54977793 0.30393807]\n",
      " [0.25558466 0.26855913 0.09961719 0.01028053 0.38141242]]\n"
     ]
    }
   ],
   "source": [
    "rand=np.random.rand(5,5)#change to match Hitmap dimensions \n",
    "np.clip(rand,0,1) #range of random values\n",
    "A_noise=np.abs(M*rand)#Noise is the mean times a random array, must be changed as Hitmap changes \n",
    "print('A_noise',A_noise)"
   ]
  },
  {
   "cell_type": "code",
   "execution_count": 174,
   "id": "59071f8c",
   "metadata": {},
   "outputs": [
    {
     "data": {
      "text/plain": [
       "<matplotlib.image.AxesImage at 0x7f8f89457a90>"
      ]
     },
     "execution_count": 174,
     "metadata": {},
     "output_type": "execute_result"
    },
    {
     "data": {
      "image/png": "[encoded data removed]",
      "text/plain": [
       "<Figure size 432x288 with 2 Axes>"
      ]
     },
     "metadata": {
      "needs_background": "light"
     },
     "output_type": "display_data"
    }
   ],
   "source": [
    "plt.colorbar(imshow(A_noise))\n",
    "imshow(A_noise)"
   ]
  },
  {
   "cell_type": "code",
   "execution_count": 175,
   "id": "da29fe1f",
   "metadata": {},
   "outputs": [],
   "source": [
    "#def Noisemap(Hitmap,A_noise): \n",
    " #   norm=np.random.normal(M,length)\n",
    "  #  np.clip(norm,0,1) \n",
    "   # Inital = np.abs(A_noise * norm)\n",
    "    #Final = np.abs(Inital/Hitmap)\n",
    "    #print('Inital',Inital)\n",
    "    #print('Final',Final)   \n",
    "    #plt.colorbar(imshow(Final))\n",
    "    #imshow(Final)"
   ]
  },
  {
   "cell_type": "code",
   "execution_count": 176,
   "id": "45ce1210",
   "metadata": {},
   "outputs": [],
   "source": [
    "def Noisemap(Hitmap,A_noise): \n",
    "    rand=np.random.rand(5,5) #random array \n",
    "    np.clip(rand,0,1) \n",
    "    print('rand',rand)\n",
    "    Inital=A_noise*rand\n",
    "    Final=np.abs(Inital/Hitmap)\n",
    "    print('Inital',Inital)\n",
    "    print('Noisemap',Final)\n",
    "    plt.colorbar(imshow(Final))\n",
    "    imshow(Final)"
   ]
  },
  {
   "cell_type": "code",
   "execution_count": 177,
   "id": "72e9cce9",
   "metadata": {},
   "outputs": [
    {
     "name": "stdout",
     "output_type": "stream",
     "text": [
      "rand [[0.93476059 0.3629497  0.07107955 0.02796421 0.9081907 ]\n",
      " [0.50301393 0.67341974 0.18829123 0.63120063 0.26288376]\n",
      " [0.00923294 0.4088888  0.4987992  0.19472027 0.73219438]\n",
      " [0.80604127 0.65547451 0.72872121 0.29752935 0.97734489]\n",
      " [0.92056576 0.62422934 0.90964286 0.60796958 0.26194646]]\n",
      "Inital [[1.31328046e-01 5.61828471e-02 1.38991988e-02 8.74285988e-03\n",
      "  3.81995361e-01]\n",
      " [2.55251859e-01 1.15424332e-01 1.67234628e-02 9.28746199e-02\n",
      "  1.02665756e-01]\n",
      " [2.76582256e-04 8.18912163e-02 7.58547828e-02 7.34225725e-02\n",
      "  6.90031507e-02]\n",
      " [1.86059671e-01 2.02106668e-01 8.13771949e-02 1.63575068e-01\n",
      "  2.97052320e-01]\n",
      " [2.35282486e-01 1.67642488e-01 9.06160673e-02 6.25024695e-03\n",
      "  9.99096347e-02]]\n",
      "Noisemap [[5.96945663e-01 6.68843417e-02 2.43845593e-02 1.90062171e-02\n",
      "  4.10747700e-01]\n",
      " [6.22565510e-01 1.92373887e+00 2.32270316e-02 2.44406894e-01\n",
      "  6.41660977e-01]\n",
      " [3.03936545e-04 2.15503201e-01 1.13216094e-01 7.41642146e-02\n",
      "  1.56825342e-01]\n",
      " [2.51431988e-01 2.17318998e-01 1.31253540e-01 6.05833586e-01\n",
      "  6.45765913e-01]\n",
      " [3.17949305e-01 4.78978536e-01 1.06607138e-01 9.61576454e-03\n",
      "  2.62920091e-01]]\n"
     ]
    },
    {
     "data": {
      "image/png": "[encoded data removed]",
      "text/plain": [
       "<Figure size 432x288 with 2 Axes>"
      ]
     },
     "metadata": {
      "needs_background": "light"
     },
     "output_type": "display_data"
    }
   ],
   "source": [
    "Noisemap(Hitmap,A_noise)"
   ]
  },
  {
   "cell_type": "code",
   "execution_count": null,
   "id": "188aad53",
   "metadata": {},
   "outputs": [],
   "source": []
  }
 ],
 "metadata": {
  "kernelspec": {
   "display_name": "Python 3 (ipykernel)",
   "language": "python",
   "name": "python3"
  },
  "language_info": {
   "codemirror_mode": {
    "name": "ipython",
    "version": 3
   },
   "file_extension": ".py",
   "mimetype": "text/x-python",
   "name": "python",
   "nbconvert_exporter": "python",
   "pygments_lexer": "ipython3",
   "version": "3.10.4"
  }
 },
 "nbformat": 4,
 "nbformat_minor": 5
}
