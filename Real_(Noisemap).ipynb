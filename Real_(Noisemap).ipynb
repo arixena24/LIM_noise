{
 "cells": [
  {
   "cell_type": "code",
   "execution_count": 923,
   "id": "15ab2820",
   "metadata": {},
   "outputs": [],
   "source": [
    "import numpy as np\n",
    "import matplotlib.pyplot as plt\n",
    "import astropy as astro \n",
    "import pandas as pd\n",
    "%matplotlib inline"
   ]
  },
  {
   "cell_type": "code",
   "execution_count": 924,
   "id": "853d9569",
   "metadata": {},
   "outputs": [],
   "source": [
    "from pylab import imshow\n",
    "from numpy import random\n",
    "from PIL import Image\n",
    "from numpy.linalg import inv\n",
    "from __future__ import division"
   ]
  },
  {
   "cell_type": "code",
   "execution_count": 925,
   "id": "a2316d54",
   "metadata": {},
   "outputs": [
    {
     "name": "stdout",
     "output_type": "stream",
     "text": [
      "[[0.5, 0.82, 0.36], [0.4, 0.38, 0.67], [0.66, 0.8, 0.33]]\n"
     ]
    }
   ],
   "source": [
    "#hitsmap part \n",
    "#Hitmap=np.random.rand(500,500) #generate random array and graph \n",
    "#np.clip(Hitmap,0,1) #range for hitmap\n",
    "Hitmap=[[0.50,0.82,0.36],[0.40,0.38,0.67],[0.66,0.80,0.33]]\n",
    "print(Hitmap)"
   ]
  },
  {
   "cell_type": "code",
   "execution_count": 926,
   "id": "6871be17",
   "metadata": {},
   "outputs": [
    {
     "data": {
      "text/plain": [
       "<matplotlib.image.AxesImage at 0x7fcdb216e5f0>"
      ]
     },
     "execution_count": 926,
     "metadata": {},
     "output_type": "execute_result"
    },
    {
     "data": {
      "image/png": "[encoded data removed]",
      "text/plain": [
       "<Figure size 432x288 with 2 Axes>"
      ]
     },
     "metadata": {
      "needs_background": "light"
     },
     "output_type": "display_data"
    }
   ],
   "source": [
    "plt.colorbar(imshow(Hitmap))\n",
    "imshow(Hitmap)"
   ]
  },
  {
   "cell_type": "code",
   "execution_count": 927,
   "id": "0d3c75e9",
   "metadata": {},
   "outputs": [
    {
     "name": "stdout",
     "output_type": "stream",
     "text": [
      "3\n",
      "0.5466666666666666\n"
     ]
    }
   ],
   "source": [
    "length=len(Hitmap)\n",
    "print(length)\n",
    "M=np.mean(Hitmap)#mean \n",
    "print(M)"
   ]
  },
  {
   "cell_type": "code",
   "execution_count": 928,
   "id": "56271c76",
   "metadata": {},
   "outputs": [
    {
     "name": "stdout",
     "output_type": "stream",
     "text": [
      "[[0.54593669 0.41434326 0.44579133]\n",
      " [0.25014385 0.00245281 0.0161411 ]\n",
      " [0.09428307 0.43334671 0.19722127]]\n"
     ]
    }
   ],
   "source": [
    "rand=np.random.rand(3,3)#change to match Hitmap dimensions \n",
    "np.clip(rand,0,1) #range of random values\n",
    "A_noise=np.abs(M*rand)#Noise is the mean times a random array, must be changed as Hitmap changes \n",
    "print(A_noise)"
   ]
  },
  {
   "cell_type": "code",
   "execution_count": 929,
   "id": "59071f8c",
   "metadata": {},
   "outputs": [
    {
     "data": {
      "text/plain": [
       "<matplotlib.image.AxesImage at 0x7fcdba62d5d0>"
      ]
     },
     "execution_count": 929,
     "metadata": {},
     "output_type": "execute_result"
    },
    {
     "data": {
      "image/png": "[encoded data removed]",
      "text/plain": [
       "<Figure size 432x288 with 2 Axes>"
      ]
     },
     "metadata": {
      "needs_background": "light"
     },
     "output_type": "display_data"
    }
   ],
   "source": [
    "plt.colorbar(imshow(A_noise))\n",
    "imshow(A_noise)"
   ]
  },
  {
   "cell_type": "code",
   "execution_count": 930,
   "id": "da29fe1f",
   "metadata": {},
   "outputs": [],
   "source": [
    "def Noisemap(Hitmap,A_noise): \n",
    "    norm=np.random.normal(M,length)\n",
    "    np.clip(norm,0,1) \n",
    "    Inital = np.abs(A_noise * norm)\n",
    "    Final = np.abs(Inital/Hitmap)\n",
    "    print('Inital',Inital)\n",
    "    print('Final',Final)   \n",
    "    plt.colorbar(imshow(Final))\n",
    "    imshow(Final)"
   ]
  },
  {
   "cell_type": "code",
   "execution_count": 931,
   "id": "72e9cce9",
   "metadata": {},
   "outputs": [
    {
     "name": "stdout",
     "output_type": "stream",
     "text": [
      "Inital [[1.69628744 1.28741166 1.38512438]\n",
      " [0.77722541 0.00762115 0.05015222]\n",
      " [0.29294824 1.34645755 0.61278894]]\n",
      "Final [[3.39257489 1.57001422 3.84756773]\n",
      " [1.94306353 0.02005566 0.07485406]\n",
      " [0.44386097 1.68307194 1.85693617]]\n"
     ]
    },
    {
     "data": {
      "image/png": "[encoded data removed]",
      "text/plain": [
       "<Figure size 432x288 with 2 Axes>"
      ]
     },
     "metadata": {
      "needs_background": "light"
     },
     "output_type": "display_data"
    }
   ],
   "source": [
    "Noisemap(Hitmap,A_noise)"
   ]
  },
  {
   "cell_type": "code",
   "execution_count": null,
   "id": "188aad53",
   "metadata": {},
   "outputs": [],
   "source": []
  }
 ],
 "metadata": {
  "kernelspec": {
   "display_name": "Python 3 (ipykernel)",
   "language": "python",
   "name": "python3"
  },
  "language_info": {
   "codemirror_mode": {
    "name": "ipython",
    "version": 3
   },
   "file_extension": ".py",
   "mimetype": "text/x-python",
   "name": "python",
   "nbconvert_exporter": "python",
   "pygments_lexer": "ipython3",
   "version": "3.10.4"
  }
 },
 "nbformat": 4,
 "nbformat_minor": 5
}
