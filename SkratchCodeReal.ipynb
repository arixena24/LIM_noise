{
 "cells": [
  {
   "cell_type": "code",
   "execution_count": 134,
   "id": "d473470e",
   "metadata": {},
   "outputs": [],
   "source": [
    "import numpy as np\n",
    "import matplotlib.pyplot as plt\n",
    "import astropy as astro \n",
    "import pandas as pd\n",
    "%matplotlib inline"
   ]
  },
  {
   "cell_type": "code",
   "execution_count": 135,
   "id": "335e9ad9",
   "metadata": {},
   "outputs": [],
   "source": [
    "from pylab import imshow\n",
    "from numpy import random\n",
    "from PIL import Image\n",
    "from numpy.linalg import inv\n",
    "from __future__ import division"
   ]
  },
  {
   "cell_type": "code",
   "execution_count": 136,
   "id": "5b4afffc",
   "metadata": {},
   "outputs": [
    {
     "name": "stdout",
     "output_type": "stream",
     "text": [
      "[[0.57197737 0.09158637 0.5233363  0.69413703 0.80628959]\n",
      " [0.28948215 0.42388248 0.96568257 0.70980437 0.41729364]\n",
      " [0.5502679  0.73266046 0.13429335 0.70733405 0.04152781]\n",
      " [0.83760571 0.30880139 0.01048457 0.26503136 0.82868494]\n",
      " [0.22357379 0.26677294 0.15514873 0.39866913 0.15815255]]\n"
     ]
    }
   ],
   "source": [
    "#hitsmap part \n",
    "Hitmap=np.random.rand(5,5) #generate random array and graph \n",
    "print(Hitmap)"
   ]
  },
  {
   "cell_type": "code",
   "execution_count": 137,
   "id": "229720aa",
   "metadata": {},
   "outputs": [
    {
     "data": {
      "text/plain": [
       "<matplotlib.image.AxesImage at 0x7fa4e8fa5f00>"
      ]
     },
     "execution_count": 137,
     "metadata": {},
     "output_type": "execute_result"
    },
    {
     "data": {
      "image/png": "[encoded data removed]",
      "text/plain": [
       "<Figure size 432x288 with 2 Axes>"
      ]
     },
     "metadata": {
      "needs_background": "light"
     },
     "output_type": "display_data"
    }
   ],
   "source": [
    "plt.colorbar(imshow(Hitmap))\n",
    "imshow(Hitmap)"
   ]
  },
  {
   "cell_type": "code",
   "execution_count": 138,
   "id": "1d20c37f",
   "metadata": {},
   "outputs": [
    {
     "name": "stdout",
     "output_type": "stream",
     "text": [
      "5\n",
      "0.44449922245529017\n"
     ]
    }
   ],
   "source": [
    "length=len(Hitmap)\n",
    "print(length)\n",
    "M=np.mean(Hitmap)#mean \n",
    "print(M)"
   ]
  },
  {
   "cell_type": "code",
   "execution_count": 139,
   "id": "dac47e05",
   "metadata": {},
   "outputs": [
    {
     "name": "stdout",
     "output_type": "stream",
     "text": [
      "[[0.31303288 0.14497464 0.24396398 0.18161116 0.04655651]\n",
      " [0.152403   0.17038485 0.39015342 0.40065132 0.13033444]\n",
      " [0.2023264  0.40861029 0.28363252 0.23797753 0.13064977]\n",
      " [0.07081095 0.22554282 0.31255195 0.28493881 0.28544186]\n",
      " [0.32068529 0.38100583 0.0699018  0.08325254 0.32075447]]\n"
     ]
    }
   ],
   "source": [
    "#one version of noise, which I will use\n",
    "A_noise=np.abs(M*np.random.rand(5,5))#Noise is the mean times a random array, which must be changed as Hitmap changes \n",
    "print(A_noise)"
   ]
  },
  {
   "cell_type": "code",
   "execution_count": 140,
   "id": "b8031978",
   "metadata": {},
   "outputs": [
    {
     "data": {
      "text/plain": [
       "<matplotlib.image.AxesImage at 0x7fa5250f8730>"
      ]
     },
     "execution_count": 140,
     "metadata": {},
     "output_type": "execute_result"
    },
    {
     "data": {
      "image/png": "[encoded data removed]",
      "text/plain": [
       "<Figure size 432x288 with 2 Axes>"
      ]
     },
     "metadata": {
      "needs_background": "light"
     },
     "output_type": "display_data"
    }
   ],
   "source": [
    "plt.colorbar(imshow(A_noise))\n",
    "imshow(A_noise)"
   ]
  },
  {
   "cell_type": "code",
   "execution_count": 141,
   "id": "616320be",
   "metadata": {},
   "outputs": [],
   "source": [
    "def Noisemap(Hitmap,A_noise): \n",
    "    Inital = A_noise * np.random.normal(M,length) \n",
    "    Final = np.abs(Inital//Hitmap) #???\n",
    "    print(Final)  \n",
    "    plt.colorbar(imshow(Final))\n",
    "    imshow(Final)"
   ]
  },
  {
   "cell_type": "code",
   "execution_count": 142,
   "id": "e4c0e56b",
   "metadata": {},
   "outputs": [
    {
     "name": "stdout",
     "output_type": "stream",
     "text": [
      "[[ 2.  5.  2.  1.  1.]\n",
      " [ 2.  2.  2.  2.  1.]\n",
      " [ 2.  2.  7.  2. 10.]\n",
      " [ 1.  3. 93.  4.  2.]\n",
      " [ 5.  5.  2.  1.  7.]]\n"
     ]
    },
    {
     "data": {
      "image/png": "[encoded data removed]",
      "text/plain": [
       "<Figure size 432x288 with 2 Axes>"
      ]
     },
     "metadata": {
      "needs_background": "light"
     },
     "output_type": "display_data"
    }
   ],
   "source": [
    "Noisemap(Hitmap,A_noise)"
   ]
  },
  {
   "cell_type": "code",
   "execution_count": 143,
   "id": "3aa8c4e4",
   "metadata": {},
   "outputs": [
    {
     "data": {
      "text/plain": [
       "<matplotlib.image.AxesImage at 0x7fa524e6e590>"
      ]
     },
     "execution_count": 143,
     "metadata": {},
     "output_type": "execute_result"
    },
    {
     "data": {
      "image/png": "[encoded data removed]",
      "text/plain": [
       "<Figure size 432x288 with 2 Axes>"
      ]
     },
     "metadata": {
      "needs_background": "light"
     },
     "output_type": "display_data"
    }
   ],
   "source": [
    "Initala = A_noise * np.random.normal(M,length) \n",
    "Finala = np.abs(Initala//Hitmap) #should it be only positive?\n",
    "plt.colorbar(imshow(Initala))\n",
    "imshow(Initala)"
   ]
  },
  {
   "cell_type": "code",
   "execution_count": 144,
   "id": "1d96c3cf",
   "metadata": {},
   "outputs": [
    {
     "name": "stdout",
     "output_type": "stream",
     "text": [
      "[[  2.   7.   2.   1.   0.]\n",
      " [  2.   2.   2.   2.   1.]\n",
      " [  1.   2.  10.   1.  15.]\n",
      " [  0.   3. 149.   5.   1.]\n",
      " [  7.   7.   2.   1.  10.]]\n"
     ]
    },
    {
     "data": {
      "text/plain": [
       "<matplotlib.image.AxesImage at 0x7fa4e0a67dc0>"
      ]
     },
     "execution_count": 144,
     "metadata": {},
     "output_type": "execute_result"
    },
    {
     "data": {
      "image/png": "[encoded data removed]",
      "text/plain": [
       "<Figure size 432x288 with 2 Axes>"
      ]
     },
     "metadata": {
      "needs_background": "light"
     },
     "output_type": "display_data"
    }
   ],
   "source": [
    "print(Finala)\n",
    "plt.colorbar(imshow(Finala))\n",
    "imshow(Finala)"
   ]
  },
  {
   "cell_type": "code",
   "execution_count": 145,
   "id": "e9e1940a",
   "metadata": {},
   "outputs": [
    {
     "name": "stdout",
     "output_type": "stream",
     "text": [
      "0.44449922245529017\n"
     ]
    }
   ],
   "source": [
    "#second version of noise\n",
    "A_n=M \n",
    "print(A_n)"
   ]
  },
  {
   "cell_type": "code",
   "execution_count": 146,
   "id": "9726c5c7",
   "metadata": {},
   "outputs": [],
   "source": [
    "#Noisemap using A_n\n",
    "def Noisemappp(Hitmap,A_n): \n",
    "    Ini = A_n * np.random.normal(A_n,length) \n",
    "    Fin = np.abs(Ini//Hitmap)\n",
    "    print(Fin)  "
   ]
  },
  {
   "cell_type": "code",
   "execution_count": 147,
   "id": "9ce60bdb",
   "metadata": {},
   "outputs": [
    {
     "name": "stdout",
     "output_type": "stream",
     "text": [
      "4.0\n"
     ]
    }
   ],
   "source": [
    "Noisemappp(1,1)"
   ]
  },
  {
   "cell_type": "code",
   "execution_count": 148,
   "id": "ea0735d9",
   "metadata": {},
   "outputs": [
    {
     "name": "stdout",
     "output_type": "stream",
     "text": [
      "3.3445629000467405\n"
     ]
    }
   ],
   "source": [
    "Ini = A_n * np.random.normal(A_n,length) \n",
    "Fin = np.abs(Inital//Hitmap)\n",
    "print(Ini)"
   ]
  },
  {
   "cell_type": "code",
   "execution_count": 151,
   "id": "f8a692dc",
   "metadata": {},
   "outputs": [
    {
     "data": {
      "text/plain": [
       "<matplotlib.image.AxesImage at 0x7fa524e983d0>"
      ]
     },
     "execution_count": 151,
     "metadata": {},
     "output_type": "execute_result"
    },
    {
     "data": {
      "image/png": "[encoded data removed]",
      "text/plain": [
       "<Figure size 432x288 with 2 Axes>"
      ]
     },
     "metadata": {
      "needs_background": "light"
     },
     "output_type": "display_data"
    }
   ],
   "source": [
    "plt.colorbar(imshow(Fin))\n",
    "imshow(Fin)"
   ]
  },
  {
   "cell_type": "code",
   "execution_count": 150,
   "id": "13510d3b",
   "metadata": {},
   "outputs": [],
   "source": [
    "#Final and Fin appear to be the same at large numbers\n",
    "#they are also the same at small numbers (5 by 5)\n",
    "#values inputed to Noisemap and Noisemappp result in different outputs"
   ]
  },
  {
   "cell_type": "code",
   "execution_count": null,
   "id": "0c6eeb6e",
   "metadata": {},
   "outputs": [],
   "source": []
  }
 ],
 "metadata": {
  "kernelspec": {
   "display_name": "Python 3 (ipykernel)",
   "language": "python",
   "name": "python3"
  },
  "language_info": {
   "codemirror_mode": {
    "name": "ipython",
    "version": 3
   },
   "file_extension": ".py",
   "mimetype": "text/x-python",
   "name": "python",
   "nbconvert_exporter": "python",
   "pygments_lexer": "ipython3",
   "version": "3.10.4"
  }
 },
 "nbformat": 4,
 "nbformat_minor": 5
}
