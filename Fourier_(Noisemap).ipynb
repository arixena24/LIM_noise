{
 "cells": [
  {
   "cell_type": "code",
   "execution_count": 1284,
   "id": "8fa726c4",
   "metadata": {},
   "outputs": [],
   "source": [
    "import numpy as np\n",
    "import matplotlib.pyplot as plt\n",
    "import astropy as astro \n",
    "import pandas as pd\n",
    "#import camb as cb\n",
    "%matplotlib inline"
   ]
  },
  {
   "cell_type": "code",
   "execution_count": 1285,
   "id": "8dd1742a",
   "metadata": {},
   "outputs": [],
   "source": [
    "from pylab import imshow\n",
    "from numpy import random\n",
    "from PIL import Image\n",
    "from scipy.fftpack import fft, ifft \n",
    "from numpy.linalg import inv\n",
    "from __future__ import division"
   ]
  },
  {
   "cell_type": "code",
   "execution_count": 1286,
   "id": "1e0ba97f",
   "metadata": {},
   "outputs": [
    {
     "name": "stdout",
     "output_type": "stream",
     "text": [
      "[[0.5, 0.82, 0.36], [0.4, 0.38, 0.67], [0.66, 0.8, 0.33]]\n"
     ]
    }
   ],
   "source": [
    "#hitsmap part \n",
    "#Hitmap=np.random.rand(500,500) #generate random array and graph \n",
    "#np.clip(Hitmap,0,1) \n",
    "Hitmap=[[0.50,0.82,0.36],[0.40,0.38,0.67],[0.66,0.80,0.33]]\n",
    "print(Hitmap)"
   ]
  },
  {
   "cell_type": "code",
   "execution_count": 1287,
   "id": "f25b9cd3",
   "metadata": {},
   "outputs": [
    {
     "data": {
      "text/plain": [
       "<matplotlib.image.AxesImage at 0x7faec52ba1d0>"
      ]
     },
     "execution_count": 1287,
     "metadata": {},
     "output_type": "execute_result"
    },
    {
     "data": {
      "image/png": "[encoded data removed]",
      "text/plain": [
       "<Figure size 432x288 with 2 Axes>"
      ]
     },
     "metadata": {
      "needs_background": "light"
     },
     "output_type": "display_data"
    }
   ],
   "source": [
    "plt.colorbar(imshow(Hitmap))\n",
    "imshow(Hitmap)"
   ]
  },
  {
   "cell_type": "code",
   "execution_count": 1288,
   "id": "5dd44daf",
   "metadata": {},
   "outputs": [
    {
     "name": "stdout",
     "output_type": "stream",
     "text": [
      "0.5466666666666666\n",
      "3\n"
     ]
    }
   ],
   "source": [
    "M=np.mean(Hitmap)\n",
    "print(M) \n",
    "length=len(Hitmap)\n",
    "print(length)"
   ]
  },
  {
   "cell_type": "code",
   "execution_count": 1289,
   "id": "ea6473ae",
   "metadata": {},
   "outputs": [],
   "source": [
    "#Fourrier Space Amplitude"
   ]
  },
  {
   "cell_type": "code",
   "execution_count": 1290,
   "id": "01c3ac84",
   "metadata": {},
   "outputs": [],
   "source": [
    "#A_noise"
   ]
  },
  {
   "cell_type": "code",
   "execution_count": 1291,
   "id": "fcd447c7",
   "metadata": {},
   "outputs": [
    {
     "name": "stdout",
     "output_type": "stream",
     "text": [
      "[[1.26069216 0.1949826  0.1949826 ]\n",
      " [1.71617532 0.30791598 0.30791598]\n",
      " [1.27559241 0.198677   0.198677  ]]\n"
     ]
    }
   ],
   "source": [
    "Spectrum=np.fft.fft(Hitmap) #fft of Hitmap\n",
    "#Spectrum=np.fft.ifft(Hitmap) #ifft of Hitmap\n",
    "#Spectrum2=np.fft.fft2(Hitmap) #fft2 of Hitmap\n",
    "#Spectrumn=np.fft.fftn(Hitmap) #fftn of Hitmap\n",
    "Abs=np.abs(Spectrum)\n",
    "#print(Spectrum)\n",
    "#print(Abs)\n",
    "\n",
    "Inverse=inv(np.matrix(Hitmap))\n",
    "#Transpose=np.transpose(Hitmap)\n",
    "\n",
    "A_n= Inverse * Abs \n",
    "A_noise=np.abs(A_n*A_n)#squaring the amplitude\n",
    "print(A_noise) "
   ]
  },
  {
   "cell_type": "code",
   "execution_count": 1292,
   "id": "ba281b6e",
   "metadata": {},
   "outputs": [
    {
     "data": {
      "text/plain": [
       "<matplotlib.image.AxesImage at 0x7faec5376830>"
      ]
     },
     "execution_count": 1292,
     "metadata": {},
     "output_type": "execute_result"
    },
    {
     "data": {
      "image/png": "[encoded data removed]",
      "text/plain": [
       "<Figure size 432x288 with 2 Axes>"
      ]
     },
     "metadata": {
      "needs_background": "light"
     },
     "output_type": "display_data"
    }
   ],
   "source": [
    "plt.colorbar(imshow(A_noise))\n",
    "imshow(A_noise)\n",
    "#the ends have always been uniform\n",
    "#there may be something wrong with the fourier transform"
   ]
  },
  {
   "cell_type": "code",
   "execution_count": 1293,
   "id": "ba4c3732",
   "metadata": {},
   "outputs": [],
   "source": [
    "def Noisemap(Hitmap,A_noise): \n",
    "    norm=np.random.normal(M,length)\n",
    "    np.clip(norm,0,1) \n",
    "    Inital = np.abs(A_noise * norm)\n",
    "    Final = np.abs(np.fft.ifft((Inital/Hitmap)))#inverse fourier transform to turn into real space\n",
    "    print('Inital',Inital)\n",
    "    print('Final',Final)   \n",
    "    plt.colorbar(imshow(Final))\n",
    "    imshow(Final)"
   ]
  },
  {
   "cell_type": "code",
   "execution_count": 1294,
   "id": "2ec90277",
   "metadata": {},
   "outputs": [
    {
     "name": "stdout",
     "output_type": "stream",
     "text": [
      "Inital [[3.35454752 0.51882483 0.51882483]\n",
      " [4.56653244 0.81932672 0.81932672]\n",
      " [3.39419527 0.52865517 0.52865517]]\n",
      "Final [[2.92766279 1.9050658  1.9050658 ]\n",
      " [4.93177658 3.25345064 3.25345064]\n",
      " [2.46850815 1.36442976 1.36442976]]\n"
     ]
    },
    {
     "data": {
      "image/png": "[encoded data removed]",
      "text/plain": [
       "<Figure size 432x288 with 2 Axes>"
      ]
     },
     "metadata": {
      "needs_background": "light"
     },
     "output_type": "display_data"
    }
   ],
   "source": [
    "Noisemap(Hitmap,A_noise)"
   ]
  },
  {
   "cell_type": "code",
   "execution_count": null,
   "id": "591da1c5",
   "metadata": {},
   "outputs": [],
   "source": []
  }
 ],
 "metadata": {
  "kernelspec": {
   "display_name": "Python 3 (ipykernel)",
   "language": "python",
   "name": "python3"
  },
  "language_info": {
   "codemirror_mode": {
    "name": "ipython",
    "version": 3
   },
   "file_extension": ".py",
   "mimetype": "text/x-python",
   "name": "python",
   "nbconvert_exporter": "python",
   "pygments_lexer": "ipython3",
   "version": "3.10.4"
  }
 },
 "nbformat": 4,
 "nbformat_minor": 5
}
