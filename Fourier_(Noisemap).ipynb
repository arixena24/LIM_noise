{
 "cells": [
  {
   "cell_type": "code",
   "execution_count": 104,
   "id": "8fa726c4",
   "metadata": {},
   "outputs": [],
   "source": [
    "import numpy as np\n",
    "import matplotlib.pyplot as plt\n",
    "import astropy as astro \n",
    "import pandas as pd\n",
    "#import camb as cb\n",
    "%matplotlib inline"
   ]
  },
  {
   "cell_type": "code",
   "execution_count": 105,
   "id": "8dd1742a",
   "metadata": {},
   "outputs": [],
   "source": [
    "from pylab import imshow\n",
    "from numpy import random\n",
    "from PIL import Image\n",
    "from scipy.fftpack import fft \n",
    "from scipy.fftpack import ifft \n",
    "from numpy.linalg import inv\n",
    "from __future__ import division"
   ]
  },
  {
   "cell_type": "code",
   "execution_count": 106,
   "id": "1e0ba97f",
   "metadata": {},
   "outputs": [
    {
     "name": "stdout",
     "output_type": "stream",
     "text": [
      "Array of Hitmap [[0.22, 0.84, 0.57, 0.46, 0.93], [0.41, 0.06, 0.72, 0.38, 0.16], [0.91, 0.38, 0.67, 0.99, 0.44], [0.74, 0.93, 0.62, 0.27, 0.46], [0.74, 0.35, 0.85, 0.65, 0.38]]\n"
     ]
    }
   ],
   "source": [
    "#hitsmap part \n",
    "#Hitmap=np.random.rand(10,10) #generate random array and graph \n",
    "#np.clip(Hitmap,0,1) \n",
    "#Hitmap=[[0.22,0.84,0.55],[0.41,0.06,0.67],[0.90,0.72,0.33]]\n",
    "Hitmap=[[0.22,0.84,0.57,0.46,0.93],[0.41,0.06,0.72,0.38,0.16],[0.91,0.38,0.67,0.99,0.44],[0.74,0.93,0.62,0.27,0.46],[0.74,0.35,0.85,0.65,0.38]]\n",
    "print('Array of Hitmap',Hitmap)"
   ]
  },
  {
   "cell_type": "code",
   "execution_count": 107,
   "id": "f25b9cd3",
   "metadata": {},
   "outputs": [
    {
     "data": {
      "text/plain": [
       "<matplotlib.image.AxesImage at 0x7ff0c0d3eb00>"
      ]
     },
     "execution_count": 107,
     "metadata": {},
     "output_type": "execute_result"
    },
    {
     "data": {
      "image/png": "[encoded data removed]",
      "text/plain": [
       "<Figure size 432x288 with 2 Axes>"
      ]
     },
     "metadata": {
      "needs_background": "light"
     },
     "output_type": "display_data"
    }
   ],
   "source": [
    "plt.colorbar(imshow(Hitmap))\n",
    "imshow(Hitmap)"
   ]
  },
  {
   "cell_type": "code",
   "execution_count": 108,
   "id": "5dd44daf",
   "metadata": {},
   "outputs": [
    {
     "name": "stdout",
     "output_type": "stream",
     "text": [
      "mean of Hitmap 0.5652\n",
      "length of Hitmap 5\n"
     ]
    }
   ],
   "source": [
    "M=np.mean(Hitmap)\n",
    "print('mean of Hitmap',M) \n",
    "length=len(Hitmap)\n",
    "print('length of Hitmap',length)"
   ]
  },
  {
   "cell_type": "code",
   "execution_count": 109,
   "id": "ea6473ae",
   "metadata": {},
   "outputs": [],
   "source": [
    "#Fourrier Space Amplitude"
   ]
  },
  {
   "cell_type": "code",
   "execution_count": 110,
   "id": "01c3ac84",
   "metadata": {},
   "outputs": [],
   "source": [
    "#A_noise"
   ]
  },
  {
   "cell_type": "code",
   "execution_count": 111,
   "id": "fcd447c7",
   "metadata": {},
   "outputs": [
    {
     "name": "stdout",
     "output_type": "stream",
     "text": [
      "A_noise [[ 1.         -5.77765134 -4.01898988 -4.01898988 -5.77765134]\n",
      " [ 1.          6.50696596  2.80268056  2.80268056  6.50696596]\n",
      " [ 1.          2.46718045  1.79598338  1.79598338  2.46718045]\n",
      " [ 1.          5.24744961  3.81335209  3.81335209  5.24744961]\n",
      " [ 1.         -8.54336968 -3.59191202 -3.59191202 -8.54336968]]\n"
     ]
    }
   ],
   "source": [
    "Spectrum=np.fft.fft(Hitmap) #fft of Hitmap\n",
    "#Spectrum=np.fft.fft2(Hitmap) #fft2 of Hitmap\n",
    "#Spectrum=np.fft.fftn(Hitmap) #fftn of Hitmap\n",
    "Abs=np.abs(Spectrum)\n",
    "#print(Spectrum)\n",
    "#print(Abs)\n",
    "\n",
    "Inverse=inv(np.matrix(Hitmap))\n",
    "#Transpose=np.transpose(Hitmap)\n",
    "\n",
    "A_noise= Inverse * Abs \n",
    "#A_noise=np.abs(A_n*A_n)#squaring the amplitude\n",
    "print('A_noise',A_noise) "
   ]
  },
  {
   "cell_type": "code",
   "execution_count": 112,
   "id": "67fd53a8",
   "metadata": {},
   "outputs": [],
   "source": [
    "#plt.colorbar(imshow(Abs))\n",
    "#imshow(Abs)"
   ]
  },
  {
   "cell_type": "code",
   "execution_count": 113,
   "id": "33c0bdce",
   "metadata": {},
   "outputs": [],
   "source": [
    "#plt.colorbar(imshow(Inverse))\n",
    "#imshow(Inverse)"
   ]
  },
  {
   "cell_type": "code",
   "execution_count": 114,
   "id": "ba281b6e",
   "metadata": {},
   "outputs": [
    {
     "data": {
      "text/plain": [
       "<matplotlib.image.AxesImage at 0x7ff0a8577b80>"
      ]
     },
     "execution_count": 114,
     "metadata": {},
     "output_type": "execute_result"
    },
    {
     "data": {
      "image/png": "[encoded data removed]",
      "text/plain": [
       "<Figure size 432x288 with 2 Axes>"
      ]
     },
     "metadata": {
      "needs_background": "light"
     },
     "output_type": "display_data"
    }
   ],
   "source": [
    "plt.colorbar(imshow(A_noise))\n",
    "imshow(A_noise)\n",
    "#the ends have always been uniform\n",
    "#there may be something wrong with the fourier transform"
   ]
  },
  {
   "cell_type": "code",
   "execution_count": 117,
   "id": "ba4c3732",
   "metadata": {},
   "outputs": [],
   "source": [
    "def Noisemap(Hitmap,A_noise): \n",
    "    rand=np.random.rand(5,5) #random array \n",
    "    np.clip(rand,0,1) \n",
    "    print('rand',rand)\n",
    "    Inital = (np.fft.ifft(A_noise))*rand #inverse fourier transform to turn into real space\n",
    "    Final = np.abs(Inital/Hitmap)\n",
    "    print('Inital',Inital)\n",
    "    print('Final',Final)   \n",
    "    plt.colorbar(imshow(Final))\n",
    "    imshow(Final)"
   ]
  },
  {
   "cell_type": "code",
   "execution_count": 118,
   "id": "2ec90277",
   "metadata": {},
   "outputs": [
    {
     "name": "stdout",
     "output_type": "stream",
     "text": [
      "rand [[0.16626202 0.54076274 0.60273288 0.86085831 0.60062923]\n",
      " [0.49990775 0.79316844 0.0585454  0.95420932 0.18357881]\n",
      " [0.70260852 0.6709907  0.16115802 0.94291193 0.2191006 ]\n",
      " [0.88813792 0.28667397 0.06689306 0.86512556 0.31488374]\n",
      " [0.65814369 0.0016607  0.86176883 0.9789162  0.45916169]]\n",
      "Inital [[-6.18271356e-01+0.j  4.25264180e-01+0.j  9.48046258e-01+0.j\n",
      "   1.35405504e+00+0.j  4.72344115e-01+0.j]\n",
      " [ 1.96156733e+00+0.j  7.72060211e-02+0.j -9.12879789e-02+0.j\n",
      "  -1.48786811e+00+0.j  1.78693314e-02+0.j]\n",
      " [ 1.33865580e+00+0.j -5.11510679e-02+0.j -6.06599767e-02+0.j\n",
      "  -3.54912626e-01+0.j -1.67025114e-02+0.j]\n",
      " [ 3.39652422e+00+0.j -1.10485930e-01+0.j -6.86827242e-02+0.j\n",
      "  -8.88271242e-01+0.j -1.21358151e-01+0.j]\n",
      " [-3.06307489e+00+0.j  5.08751956e-04+0.j  2.17226738e+00+0.j\n",
      "   2.46756166e+00+0.j  1.40663531e-01+0.j]]\n",
      "Final [[2.81032435e+00 5.06266881e-01 1.66323905e+00 2.94359791e+00\n",
      "  5.07896898e-01]\n",
      " [4.78431055e+00 1.28676702e+00 1.26788860e-01 3.91544238e+00\n",
      "  1.11683322e-01]\n",
      " [1.47105033e+00 1.34608074e-01 9.05372786e-02 3.58497602e-01\n",
      "  3.79602532e-02]\n",
      " [4.58989759e+00 1.18802076e-01 1.10778587e-01 3.28989349e+00\n",
      "  2.63822067e-01]\n",
      " [4.13929040e+00 1.45357702e-03 2.55560868e+00 3.79624871e+00\n",
      "  3.70167186e-01]]\n"
     ]
    },
    {
     "data": {
      "image/png": "[encoded data removed]",
      "text/plain": [
       "<Figure size 432x288 with 2 Axes>"
      ]
     },
     "metadata": {
      "needs_background": "light"
     },
     "output_type": "display_data"
    }
   ],
   "source": [
    "Noisemap(Hitmap,A_noise)"
   ]
  },
  {
   "cell_type": "code",
   "execution_count": null,
   "id": "2d38e301",
   "metadata": {},
   "outputs": [],
   "source": []
  }
 ],
 "metadata": {
  "kernelspec": {
   "display_name": "Python 3 (ipykernel)",
   "language": "python",
   "name": "python3"
  },
  "language_info": {
   "codemirror_mode": {
    "name": "ipython",
    "version": 3
   },
   "file_extension": ".py",
   "mimetype": "text/x-python",
   "name": "python",
   "nbconvert_exporter": "python",
   "pygments_lexer": "ipython3",
   "version": "3.10.4"
  }
 },
 "nbformat": 4,
 "nbformat_minor": 5
}
