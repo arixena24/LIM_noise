{
 "cells": [
  {
   "cell_type": "code",
   "execution_count": 139,
   "id": "8fa726c4",
   "metadata": {},
   "outputs": [],
   "source": [
    "import numpy as np\n",
    "import matplotlib.pyplot as plt\n",
    "import astropy as astro \n",
    "import pandas as pd\n",
    "#import camb as cb\n",
    "%matplotlib inline"
   ]
  },
  {
   "cell_type": "code",
   "execution_count": 140,
   "id": "8dd1742a",
   "metadata": {},
   "outputs": [],
   "source": [
    "from pylab import imshow\n",
    "from numpy import random\n",
    "from PIL import Image\n",
    "from scipy.fftpack import fft \n",
    "from scipy.fftpack import ifft \n",
    "from numpy.linalg import inv\n",
    "from __future__ import division"
   ]
  },
  {
   "cell_type": "code",
   "execution_count": 141,
   "id": "1e0ba97f",
   "metadata": {},
   "outputs": [
    {
     "name": "stdout",
     "output_type": "stream",
     "text": [
      "Array of Hitmap [[0.22, 0.84, 0.55], [0.41, 0.06, 0.67], [0.9, 0.72, 0.33]]\n"
     ]
    }
   ],
   "source": [
    "#hitsmap part \n",
    "#Hitmap=np.random.rand(10,10) #generate random array and graph \n",
    "#np.clip(Hitmap,0,1) \n",
    "Hitmap=[[0.22,0.84,0.55],[0.41,0.06,0.67],[0.90,0.72,0.33]]\n",
    "print('Array of Hitmap',Hitmap)"
   ]
  },
  {
   "cell_type": "code",
   "execution_count": 142,
   "id": "f25b9cd3",
   "metadata": {},
   "outputs": [
    {
     "data": {
      "text/plain": [
       "<matplotlib.image.AxesImage at 0x7fa094e28df0>"
      ]
     },
     "execution_count": 142,
     "metadata": {},
     "output_type": "execute_result"
    },
    {
     "data": {
      "image/png": "[encoded data removed]",
      "text/plain": [
       "<Figure size 432x288 with 2 Axes>"
      ]
     },
     "metadata": {
      "needs_background": "light"
     },
     "output_type": "display_data"
    }
   ],
   "source": [
    "plt.colorbar(imshow(Hitmap))\n",
    "imshow(Hitmap)"
   ]
  },
  {
   "cell_type": "code",
   "execution_count": 143,
   "id": "5dd44daf",
   "metadata": {},
   "outputs": [
    {
     "name": "stdout",
     "output_type": "stream",
     "text": [
      "mean of Hitmap 0.5222222222222223\n",
      "length of Hitmap 3\n"
     ]
    }
   ],
   "source": [
    "M=np.mean(Hitmap)\n",
    "print('mean of Hitmap',M) \n",
    "length=len(Hitmap)\n",
    "print('length of Hitmap',length)"
   ]
  },
  {
   "cell_type": "code",
   "execution_count": 144,
   "id": "ea6473ae",
   "metadata": {},
   "outputs": [],
   "source": [
    "#Fourrier Space Amplitude"
   ]
  },
  {
   "cell_type": "code",
   "execution_count": 145,
   "id": "01c3ac84",
   "metadata": {},
   "outputs": [],
   "source": [
    "#A_noise"
   ]
  },
  {
   "cell_type": "code",
   "execution_count": 146,
   "id": "fcd447c7",
   "metadata": {},
   "outputs": [
    {
     "name": "stdout",
     "output_type": "stream",
     "text": [
      "A_noise [[1.38610024 0.35070104 0.35070104]\n",
      " [1.31509962 0.32171035 0.32171035]\n",
      " [2.3181645  0.73127782 0.73127782]]\n"
     ]
    }
   ],
   "source": [
    "Spectrum=np.fft.fft(Hitmap) #fft of Hitmap\n",
    "#Spectrum=np.fft.fft2(Hitmap) #fft2 of Hitmap\n",
    "#Spectrum=np.fft.fftn(Hitmap) #fftn of Hitmap\n",
    "Abs=np.abs(Spectrum)\n",
    "#print(Spectrum)\n",
    "#print(Abs)\n",
    "\n",
    "Inverse=inv(np.matrix(Hitmap))\n",
    "#Transpose=np.transpose(Hitmap)\n",
    "\n",
    "A_n= Inverse * Abs \n",
    "A_noise=np.abs(A_n*A_n)#squaring the amplitude\n",
    "print('A_noise',A_noise) "
   ]
  },
  {
   "cell_type": "code",
   "execution_count": 147,
   "id": "67fd53a8",
   "metadata": {},
   "outputs": [],
   "source": [
    "#plt.colorbar(imshow(Abs))\n",
    "#imshow(Abs)"
   ]
  },
  {
   "cell_type": "code",
   "execution_count": 148,
   "id": "33c0bdce",
   "metadata": {},
   "outputs": [],
   "source": [
    "#plt.colorbar(imshow(Inverse))\n",
    "#imshow(Inverse)"
   ]
  },
  {
   "cell_type": "code",
   "execution_count": 149,
   "id": "ba281b6e",
   "metadata": {},
   "outputs": [
    {
     "data": {
      "text/plain": [
       "<matplotlib.image.AxesImage at 0x7fa094faf5b0>"
      ]
     },
     "execution_count": 149,
     "metadata": {},
     "output_type": "execute_result"
    },
    {
     "data": {
      "image/png": "[encoded data removed]",
      "text/plain": [
       "<Figure size 432x288 with 2 Axes>"
      ]
     },
     "metadata": {
      "needs_background": "light"
     },
     "output_type": "display_data"
    }
   ],
   "source": [
    "plt.colorbar(imshow(A_noise))\n",
    "imshow(A_noise)\n",
    "#the ends have always been uniform\n",
    "#there may be something wrong with the fourier transform"
   ]
  },
  {
   "cell_type": "code",
   "execution_count": 150,
   "id": "ba4c3732",
   "metadata": {},
   "outputs": [],
   "source": [
    "def Noisemap(Hitmap,A_noise): \n",
    "    norm=np.random.normal(M,length)\n",
    "    np.clip(norm,0,1) \n",
    "    Inital = np.abs(A_noise * norm)\n",
    "    Final = np.abs(np.fft.ifft(Inital/Hitmap))#inverse fourier transform to turn into real space\n",
    "    print('Inital',Inital)\n",
    "    print('Final',Final)   \n",
    "    plt.colorbar(imshow(Final))\n",
    "    imshow(Final)"
   ]
  },
  {
   "cell_type": "code",
   "execution_count": 151,
   "id": "2ec90277",
   "metadata": {},
   "outputs": [
    {
     "name": "stdout",
     "output_type": "stream",
     "text": [
      "Inital [[0.22054031 0.05579951 0.05579951]\n",
      " [0.20924351 0.05118685 0.05118685]\n",
      " [0.36883965 0.11635251 0.11635251]]\n",
      "Final [[0.39011254 0.30633862 0.30633862]\n",
      " [0.47995414 0.22473303 0.22473303]\n",
      " [0.30800196 0.07504234 0.07504234]]\n"
     ]
    },
    {
     "data": {
      "image/png": "[encoded data removed]",
      "text/plain": [
       "<Figure size 432x288 with 2 Axes>"
      ]
     },
     "metadata": {
      "needs_background": "light"
     },
     "output_type": "display_data"
    }
   ],
   "source": [
    "Noisemap(Hitmap,A_noise)"
   ]
  },
  {
   "cell_type": "code",
   "execution_count": null,
   "id": "2d38e301",
   "metadata": {},
   "outputs": [],
   "source": []
  }
 ],
 "metadata": {
  "kernelspec": {
   "display_name": "Python 3 (ipykernel)",
   "language": "python",
   "name": "python3"
  },
  "language_info": {
   "codemirror_mode": {
    "name": "ipython",
    "version": 3
   },
   "file_extension": ".py",
   "mimetype": "text/x-python",
   "name": "python",
   "nbconvert_exporter": "python",
   "pygments_lexer": "ipython3",
   "version": "3.10.4"
  }
 },
 "nbformat": 4,
 "nbformat_minor": 5
}
