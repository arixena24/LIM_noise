{
 "cells": [
  {
   "cell_type": "code",
   "execution_count": 1,
   "id": "15ab2820",
   "metadata": {},
   "outputs": [],
   "source": [
    "#in this version, I will try to get the real and fourier noisemap to match\n",
    "import numpy as np\n",
    "import matplotlib.pyplot as plt\n",
    "import astropy as astro \n",
    "import pandas as pd\n",
    "%matplotlib inline"
   ]
  },
  {
   "cell_type": "code",
   "execution_count": 2,
   "id": "853d9569",
   "metadata": {},
   "outputs": [],
   "source": [
    "from pylab import imshow\n",
    "from numpy import random\n",
    "from PIL import Image\n",
    "from numpy.linalg import inv\n",
    "from __future__ import division"
   ]
  },
  {
   "cell_type": "code",
   "execution_count": 3,
   "id": "a2316d54",
   "metadata": {},
   "outputs": [],
   "source": [
    "#hitsmap part \n",
    "#Hitmap=np.random.rand(5,5) #generate random array and graph \n",
    "#np.clip(Hitmap,0,1) #range for hitmap\n",
    "Hitmap=[[0.22,0.84,0.57,0.46,0.93],[0.41,0.06,0.72,0.38,0.16],[0.91,0.38,0.67,0.99,0.44],[0.74,0.93,0.62,0.27,0.46],[0.74,0.35,0.85,0.65,0.38]]"
   ]
  },
  {
   "cell_type": "code",
   "execution_count": 4,
   "id": "6871be17",
   "metadata": {},
   "outputs": [
    {
     "name": "stdout",
     "output_type": "stream",
     "text": [
      "Array of Hitmap [[0.22, 0.84, 0.57, 0.46, 0.93], [0.41, 0.06, 0.72, 0.38, 0.16], [0.91, 0.38, 0.67, 0.99, 0.44], [0.74, 0.93, 0.62, 0.27, 0.46], [0.74, 0.35, 0.85, 0.65, 0.38]]\n"
     ]
    },
    {
     "data": {
      "text/plain": [
       "<matplotlib.image.AxesImage at 0x7fe610289810>"
      ]
     },
     "execution_count": 4,
     "metadata": {},
     "output_type": "execute_result"
    },
    {
     "data": {
      "image/png": "[encoded data removed]",
      "text/plain": [
       "<Figure size 432x288 with 2 Axes>"
      ]
     },
     "metadata": {
      "needs_background": "light"
     },
     "output_type": "display_data"
    }
   ],
   "source": [
    "print('Array of Hitmap',Hitmap)\n",
    "plt.colorbar(imshow(Hitmap))\n",
    "imshow(Hitmap)"
   ]
  },
  {
   "cell_type": "code",
   "execution_count": 5,
   "id": "0d3c75e9",
   "metadata": {},
   "outputs": [
    {
     "name": "stdout",
     "output_type": "stream",
     "text": [
      "Length of Hitmap 5\n",
      "Mean of Hitmap 0.5652\n"
     ]
    }
   ],
   "source": [
    "length=len(Hitmap)\n",
    "print('Length of Hitmap',length)\n",
    "M=np.mean(Hitmap)#mean \n",
    "print('Mean of Hitmap',M)"
   ]
  },
  {
   "cell_type": "code",
   "execution_count": 6,
   "id": "56271c76",
   "metadata": {},
   "outputs": [],
   "source": [
    "#fourier and real diverges \n",
    "rand=np.random.rand(5,5)#change to match Hitmap dimensions \n",
    "np.clip(rand,0,1) #range of random value\n",
    "A_noise=np.abs(M*rand)#Noise is the mean times a random array, must be changed as Hitmap changes "
   ]
  },
  {
   "cell_type": "code",
   "execution_count": 7,
   "id": "794a1442",
   "metadata": {},
   "outputs": [
    {
     "data": {
      "text/plain": [
       "<matplotlib.image.AxesImage at 0x7fe630b92380>"
      ]
     },
     "execution_count": 7,
     "metadata": {},
     "output_type": "execute_result"
    },
    {
     "data": {
      "image/png": "[encoded data removed]",
      "text/plain": [
       "<Figure size 432x288 with 2 Axes>"
      ]
     },
     "metadata": {
      "needs_background": "light"
     },
     "output_type": "display_data"
    }
   ],
   "source": [
    "plt.colorbar(imshow(rand))\n",
    "imshow(rand)"
   ]
  },
  {
   "cell_type": "code",
   "execution_count": 8,
   "id": "59071f8c",
   "metadata": {},
   "outputs": [
    {
     "name": "stdout",
     "output_type": "stream",
     "text": [
      "A_noise [[0.48104715 0.18308755 0.2803043  0.43191296 0.42198272]\n",
      " [0.25175191 0.45416909 0.38477767 0.12892145 0.25891815]\n",
      " [0.26020139 0.55981931 0.24098615 0.22747787 0.34247391]\n",
      " [0.06334666 0.22634998 0.55044634 0.33428177 0.54890533]\n",
      " [0.04113612 0.00734371 0.3187898  0.55977278 0.48017802]]\n"
     ]
    },
    {
     "data": {
      "image/png": "[encoded data removed]",
      "text/plain": [
       "<Figure size 432x288 with 2 Axes>"
      ]
     },
     "metadata": {
      "needs_background": "light"
     },
     "output_type": "display_data"
    }
   ],
   "source": [
    "plt.colorbar(imshow(A_noise))\n",
    "imshow(A_noise)\n",
    "print('A_noise',A_noise)"
   ]
  },
  {
   "cell_type": "code",
   "execution_count": 9,
   "id": "da29fe1f",
   "metadata": {},
   "outputs": [],
   "source": [
    "def Noisemap(Hitmap,A_noise): \n",
    "    norm=np.random.normal(M,length)\n",
    "    #np.clip(norm,0,1)\n",
    "    Inital = np.abs(A_noise * norm)\n",
    "    Final = Inital/Hitmap\n",
    "    #print('Inital',Inital)\n",
    "    print('Final',Final)   \n",
    "    plt.colorbar(imshow(Final))\n",
    "    imshow(Final)\n",
    "    #plt.savefig('noisemap.png') #saves figure in noisemap folder"
   ]
  },
  {
   "cell_type": "code",
   "execution_count": 10,
   "id": "72e9cce9",
   "metadata": {},
   "outputs": [
    {
     "name": "stdout",
     "output_type": "stream",
     "text": [
      "Final [[16.37925299  1.63270846  3.68369812  7.03343584  3.39891927]\n",
      " [ 4.59957867 56.70161754  4.0031927   2.54138647 12.12192632]\n",
      " [ 2.14189088 11.03553527  2.69430286  1.72120695  5.83047505]\n",
      " [ 0.64124075  1.82316776  6.65047135  9.27423412  8.93858431]\n",
      " [ 0.41640957  0.15717251  2.80940672  6.45100751  9.46559248]]\n"
     ]
    },
    {
     "data": {
      "image/png": "[encoded data removed]",
      "text/plain": [
       "<Figure size 432x288 with 2 Axes>"
      ]
     },
     "metadata": {
      "needs_background": "light"
     },
     "output_type": "display_data"
    }
   ],
   "source": [
    "Noisemap(Hitmap,A_noise)"
   ]
  },
  {
   "cell_type": "code",
   "execution_count": 11,
   "id": "188aad53",
   "metadata": {},
   "outputs": [],
   "source": [
    "#the noisemap is inconsistent for evey run, need to check scaling and the np.random function"
   ]
  }
 ],
 "metadata": {
  "kernelspec": {
   "display_name": "Python 3 (ipykernel)",
   "language": "python",
   "name": "python3"
  },
  "language_info": {
   "codemirror_mode": {
    "name": "ipython",
    "version": 3
   },
   "file_extension": ".py",
   "mimetype": "text/x-python",
   "name": "python",
   "nbconvert_exporter": "python",
   "pygments_lexer": "ipython3",
   "version": "3.10.4"
  }
 },
 "nbformat": 4,
 "nbformat_minor": 5
}
