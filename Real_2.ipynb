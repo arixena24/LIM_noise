{
 "cells": [
  {
   "cell_type": "code",
   "execution_count": 37,
   "metadata": {},
   "outputs": [],
   "source": [
    "import numpy as np\n",
    "import matplotlib.pyplot as plt\n",
    "import astropy as astro \n",
    "import pandas as pd\n",
    "%matplotlib inline"
   ]
  },
  {
   "cell_type": "code",
   "execution_count": 38,
   "metadata": {},
   "outputs": [],
   "source": [
    "from pylab import imshow\n",
    "from numpy import random\n",
    "from PIL import Image\n",
    "from numpy.linalg import inv\n",
    "from __future__ import division"
   ]
  },
  {
   "cell_type": "code",
   "execution_count": 39,
   "metadata": {},
   "outputs": [],
   "source": [
    "#hitsmap part \n",
    "Hitmap=np.random.rand(5,5) #generate random array and graph \n",
    "#np.clip(Hitmap,0,1) #range for hitmap\n",
    "#Hitmap=[[0.22,0.84,0.55],[0.41,0.06,0.67],[0.90,0.72,0.33]]\n",
    "#Hitmap=[[0.22,0.84,0.57,0.46,0.93],[0.41,0.06,0.72,0.38,0.16],[0.91,0.38,0.67,0.99,0.44],[0.74,0.93,0.62,0.27,0.46],[0.74,0.35,0.85,0.65,0.38]]"
   ]
  },
  {
   "cell_type": "code",
   "execution_count": 40,
   "metadata": {},
   "outputs": [
    {
     "name": "stdout",
     "output_type": "stream",
     "text": [
      "Array of Hitmap [[0.96324618 0.90751798 0.46043019 0.08139183 0.73963686]\n",
      " [0.18655737 0.66636937 0.6512138  0.50383346 0.34327537]\n",
      " [0.82366849 0.06822097 0.21802563 0.15797759 0.0915404 ]\n",
      " [0.03702994 0.9113196  0.21318867 0.27702921 0.22948621]\n",
      " [0.54314792 0.52237813 0.15593651 0.44693164 0.52130627]]\n"
     ]
    },
    {
     "data": {
      "image/png": "[encoded data removed]",
      "text/plain": [
       "<Figure size 432x288 with 2 Axes>"
      ]
     },
     "metadata": {
      "needs_background": "light"
     },
     "output_type": "display_data"
    }
   ],
   "source": [
    "plt.colorbar(imshow(Hitmap))\n",
    "imshow(Hitmap)\n",
    "print('Array of Hitmap',Hitmap)"
   ]
  },
  {
   "cell_type": "code",
   "execution_count": 41,
   "metadata": {},
   "outputs": [
    {
     "name": "stdout",
     "output_type": "stream",
     "text": [
      "Length of Hitmap 5\n",
      "Mean of Hitmap 0.4288263833464841\n"
     ]
    }
   ],
   "source": [
    "length=len(Hitmap)\n",
    "print('Length of Hitmap',length)\n",
    "M=np.mean(Hitmap)#mean \n",
    "print('Mean of Hitmap',M)"
   ]
  },
  {
   "cell_type": "code",
   "execution_count": 42,
   "metadata": {},
   "outputs": [],
   "source": [
    "#rand=np.random.rand(5,5)#change to match Hitmap dimensions \n",
    "#np.clip(rand,0,1) #range of random values\n",
    "#A_noise=np.abs(M*rand)#Noise is the mean times a random array, must be changed as Hitmap changes \n",
    "#print('A_noise',A_noise)"
   ]
  },
  {
   "cell_type": "code",
   "execution_count": 43,
   "metadata": {},
   "outputs": [],
   "source": [
    "rand=np.random.rand(5,5)#change to match Hitmap dimensions \n",
    "np.clip(rand,0,1) #range of random values\n",
    "A_noise=np.abs(M*rand)#Noise is the mean times a random array, must be changed as Hitmap changes "
   ]
  },
  {
   "cell_type": "code",
   "execution_count": 44,
   "metadata": {},
   "outputs": [
    {
     "name": "stdout",
     "output_type": "stream",
     "text": [
      "A_noise [[0.14957232 0.13414838 0.11166259 0.21405609 0.12120492]\n",
      " [0.13606821 0.2119459  0.134555   0.35675423 0.4202494 ]\n",
      " [0.20521985 0.13867558 0.3936444  0.15178411 0.05695792]\n",
      " [0.21016428 0.26431411 0.06202727 0.23849528 0.28295396]\n",
      " [0.27530495 0.13631654 0.18934648 0.31370658 0.09152538]]\n"
     ]
    },
    {
     "data": {
      "image/png": "[encoded data removed]",
      "text/plain": [
       "<Figure size 432x288 with 2 Axes>"
      ]
     },
     "metadata": {
      "needs_background": "light"
     },
     "output_type": "display_data"
    }
   ],
   "source": [
    "plt.colorbar(imshow(A_noise))\n",
    "imshow(A_noise)\n",
    "print('A_noise',A_noise)"
   ]
  },
  {
   "cell_type": "code",
   "execution_count": 45,
   "metadata": {},
   "outputs": [],
   "source": [
    "#A_scalenoise=mean(hit)* hit (scale the hitmap)\n",
    "#How to evaluate A_Noise?\n",
    "#A_noise is the mean of the hitmap (asumption)"
   ]
  },
  {
   "cell_type": "code",
   "execution_count": 46,
   "metadata": {},
   "outputs": [],
   "source": [
    "#def Noisemap(Hitmap,A_noise): \n",
    " #   norm=np.random.normal(M,length)\n",
    "  #  np.clip(norm,0,1) \n",
    "   # Inital = np.abs(A_noise * norm)\n",
    "    #Final = np.abs(Inital/Hitmap)\n",
    "    #print('Inital',Inital)\n",
    "    #print('Final',Final)   \n",
    "    #plt.colorbar(imshow(Final))\n",
    "    #imshow(Final)"
   ]
  },
  {
   "cell_type": "code",
   "execution_count": 47,
   "metadata": {},
   "outputs": [],
   "source": [
    "def Noisemap(Hitmap,A_noise): \n",
    "    Inital=A_noise\n",
    "    Final=np.abs(Inital/Hitmap)\n",
    "    print('Inital',Inital)\n",
    "    print('Noisemap',Final)\n",
    "    plt.colorbar(imshow(Final))\n",
    "    imshow(Final)"
   ]
  },
  {
   "cell_type": "code",
   "execution_count": 48,
   "metadata": {},
   "outputs": [
    {
     "name": "stdout",
     "output_type": "stream",
     "text": [
      "Inital [[0.14957232 0.13414838 0.11166259 0.21405609 0.12120492]\n",
      " [0.13606821 0.2119459  0.134555   0.35675423 0.4202494 ]\n",
      " [0.20521985 0.13867558 0.3936444  0.15178411 0.05695792]\n",
      " [0.21016428 0.26431411 0.06202727 0.23849528 0.28295396]\n",
      " [0.27530495 0.13631654 0.18934648 0.31370658 0.09152538]]\n",
      "Noisemap [[0.15527943 0.14781897 0.24251795 2.62994573 0.16387084]\n",
      " [0.72936392 0.31806068 0.20662185 0.70807967 1.22423407]\n",
      " [0.24915345 2.03274111 1.80549604 0.96079519 0.62221625]\n",
      " [5.67552301 0.29003448 0.29095012 0.86090301 1.23298894]\n",
      " [0.5068692  0.26095377 1.21425362 0.70191177 0.17556932]]\n"
     ]
    },
    {
     "data": {
      "image/png": "[encoded data removed]",
      "text/plain": [
       "<Figure size 432x288 with 2 Axes>"
      ]
     },
     "metadata": {
      "needs_background": "light"
     },
     "output_type": "display_data"
    }
   ],
   "source": [
    "Noisemap(Hitmap,A_noise)"
   ]
  },
  {
   "cell_type": "code",
   "execution_count": null,
   "metadata": {},
   "outputs": [],
   "source": []
  }
 ],
 "metadata": {
  "kernelspec": {
   "display_name": "Python 3",
   "language": "python",
   "name": "python3"
  },
  "language_info": {
   "codemirror_mode": {
    "name": "ipython",
    "version": 3
   },
   "file_extension": ".py",
   "mimetype": "text/x-python",
   "name": "python",
   "nbconvert_exporter": "python",
   "pygments_lexer": "ipython3",
   "version": "3.8.5"
  }
 },
 "nbformat": 4,
 "nbformat_minor": 5
}
