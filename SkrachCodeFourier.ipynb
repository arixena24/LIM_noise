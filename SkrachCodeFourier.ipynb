{
 "cells": [
  {
   "cell_type": "code",
   "execution_count": 311,
   "id": "689ecc3d",
   "metadata": {},
   "outputs": [],
   "source": [
    "import numpy as np\n",
    "import matplotlib.pyplot as plt\n",
    "import astropy as astro \n",
    "import pandas as pd\n",
    "import camb as cb\n",
    "%matplotlib inline"
   ]
  },
  {
   "cell_type": "code",
   "execution_count": 312,
   "id": "3688ef5c",
   "metadata": {},
   "outputs": [],
   "source": [
    "from pylab import imshow\n",
    "from numpy import random\n",
    "from PIL import Image\n",
    "from scipy.fftpack import fft\n",
    "from scipy.fftpack import fftfreq\n",
    "from numpy.linalg import inv\n",
    "from __future__ import division"
   ]
  },
  {
   "cell_type": "code",
   "execution_count": 313,
   "id": "ca1f4a19",
   "metadata": {},
   "outputs": [],
   "source": [
    "#hitsmap part \n",
    "Hitmap=np.random.rand(5,5) #generate random array and graph \n",
    "#Hits=np.pad(Hitmap,1)#padding hitmap \n",
    "#print(Hitmap)\n",
    "#print(Hits)"
   ]
  },
  {
   "cell_type": "code",
   "execution_count": 314,
   "id": "11f6e73f",
   "metadata": {},
   "outputs": [
    {
     "data": {
      "text/plain": [
       "<matplotlib.image.AxesImage at 0x7f7f894a3430>"
      ]
     },
     "execution_count": 314,
     "metadata": {},
     "output_type": "execute_result"
    },
    {
     "data": {
      "image/png": "[encoded data removed]",
      "text/plain": [
       "<Figure size 432x288 with 2 Axes>"
      ]
     },
     "metadata": {
      "needs_background": "light"
     },
     "output_type": "display_data"
    }
   ],
   "source": [
    "plt.colorbar(imshow(Hitmap))\n",
    "imshow(Hitmap)"
   ]
  },
  {
   "cell_type": "code",
   "execution_count": 315,
   "id": "9b9fe14b",
   "metadata": {},
   "outputs": [],
   "source": [
    "#imshow(Hits)"
   ]
  },
  {
   "cell_type": "code",
   "execution_count": 316,
   "id": "d669a1f9",
   "metadata": {},
   "outputs": [
    {
     "name": "stdout",
     "output_type": "stream",
     "text": [
      "0.5376524994766892\n"
     ]
    }
   ],
   "source": [
    "M=np.mean(Hitmap)\n",
    "print(np.mean(Hitmap)) #random values of Hitmap\n",
    "#print(np.median(Hitmap))\n",
    "#print(np.var(Hitmap))"
   ]
  },
  {
   "cell_type": "code",
   "execution_count": 317,
   "id": "b2618791",
   "metadata": {},
   "outputs": [],
   "source": [
    "#Fourrier Space "
   ]
  },
  {
   "cell_type": "code",
   "execution_count": 318,
   "id": "9b0b6894",
   "metadata": {},
   "outputs": [
    {
     "name": "stdout",
     "output_type": "stream",
     "text": [
      "5\n"
     ]
    }
   ],
   "source": [
    "#random wave calculation thing, may help with Amplitude later \n",
    "\n",
    "length=len(Hitmap)\n",
    "#wave=(length - 1) // 2\n",
    "print(length)\n",
    "#print(wave)\n",
    "\n",
    "#map = Hitmap[1] - Hitmap[0]\n",
    "        \n",
    "#print(map)"
   ]
  },
  {
   "cell_type": "code",
   "execution_count": 319,
   "id": "24e972b8",
   "metadata": {},
   "outputs": [],
   "source": [
    "##Amplitude code that did not work \n",
    "\n",
    "#np_fft = np.fft.fft(Hitmap)\n",
    "#amplitudes = 2 / Hitmap * np.abs(np_fft) \n",
    "#frequencies = np.fft.fftfreq(Hitmap)\n",
    "\n",
    "#imshow(frequencies) "
   ]
  },
  {
   "cell_type": "code",
   "execution_count": 320,
   "id": "4fa611a5",
   "metadata": {},
   "outputs": [
    {
     "name": "stdout",
     "output_type": "stream",
     "text": [
      "[[13.44131249  1.4912248   0.98548555  0.98548555  1.4912248 ]\n",
      " [ 1.35282882  1.28126014  1.21381374  0.72664906  1.24036395]\n",
      " [ 2.42584215  0.63504064  1.12664724  0.62840673  1.58171227]\n",
      " [ 2.42584215  1.58171227  0.62840673  1.12664724  0.63504064]\n",
      " [ 1.35282882  1.24036395  0.72664906  1.21381374  1.28126014]]\n",
      "[[-1.66428140e+02  6.10982078e+00 -2.66954537e+01 -6.54555693e+00\n",
      "  -5.51365794e+01]\n",
      " [-7.47179188e+02  1.50785963e+01 -1.16728046e+02 -3.47050976e+01\n",
      "  -2.38610226e+02]\n",
      " [ 7.20582817e+02 -1.38764969e+01  1.14662093e+02  3.57160639e+01\n",
      "   2.34849537e+02]\n",
      " [-5.38822022e+00  3.12998868e-01 -3.39369837e+00 -1.42028666e+00\n",
      "  -6.74401930e+00]\n",
      " [ 7.78679345e+01 -2.90960626e+00  1.35460778e+01  2.72496919e+00\n",
      "   2.67434405e+01]]\n"
     ]
    }
   ],
   "source": [
    "#will use this as A_noise\n",
    "#Spectrum=np.fft.fft(Hitmap) #fft of Hitmap\n",
    "#Spectrumi=np.fft.ifft(Hitmap) #ifft of Hitmap\n",
    "#Spectrum2=np.fft.fft2(Hitmap) #fft2 of Hitmap\n",
    "Spectrumn=np.fft.fftn(Hitmap) #fftn of Hitmap\n",
    "Abs=np.abs(Spectrumn)\n",
    "#print(Spectrum)\n",
    "print(Abs)\n",
    "\n",
    "Inverse=inv(np.matrix(Hitmap))\n",
    "#Transpose=np.transpose(Hitmap)\n",
    "\n",
    "A_noise= Inverse * Abs #I am not sure that this is the amplitude, but is supposed to give the Amplitude \n",
    "print(A_noise) #hitmap/frequency may be the amplitude "
   ]
  },
  {
   "cell_type": "code",
   "execution_count": 321,
   "id": "e44b2f62",
   "metadata": {},
   "outputs": [
    {
     "name": "stdout",
     "output_type": "stream",
     "text": [
      "[[-2.26057155e+03  3.32052268e+01 -3.37509738e+01 -5.32594927e-01\n",
      "  -1.02859104e+02]\n",
      " [-1.02082183e+04  1.23462447e+02 -1.45905683e+02 -1.10946974e+01\n",
      "  -4.40165153e+02]\n",
      " [ 9.78745519e+03 -1.20260892e+02  1.42532986e+02  1.32047208e+01\n",
      "   4.32376829e+02]\n",
      " [-4.80371717e+01  3.75040625e+00 -4.11953291e+00 -9.65183005e-01\n",
      "  -1.19359255e+01]\n",
      " [ 1.04827561e+03 -1.60763155e+01  1.74501590e+01 -6.91736613e-01\n",
      "   4.97744563e+01]]\n"
     ]
    }
   ],
   "source": [
    "#squared amplitude, a possible A_noise\n",
    "SquareAmp=Abs*Abs\n",
    "A_noise1= Inverse * SquareAmp \n",
    "print(A_noise1)"
   ]
  },
  {
   "cell_type": "code",
   "execution_count": 322,
   "id": "d2bf195e",
   "metadata": {},
   "outputs": [
    {
     "data": {
      "text/plain": [
       "<matplotlib.image.AxesImage at 0x7f7fca50f4c0>"
      ]
     },
     "execution_count": 322,
     "metadata": {},
     "output_type": "execute_result"
    },
    {
     "data": {
      "image/png": "[encoded data removed]",
      "text/plain": [
       "<Figure size 432x288 with 2 Axes>"
      ]
     },
     "metadata": {
      "needs_background": "light"
     },
     "output_type": "display_data"
    }
   ],
   "source": [
    "plt.colorbar(imshow(Abs))\n",
    "imshow(Abs)"
   ]
  },
  {
   "cell_type": "code",
   "execution_count": 323,
   "id": "8fcbdb66",
   "metadata": {},
   "outputs": [
    {
     "data": {
      "text/plain": [
       "<matplotlib.image.AxesImage at 0x7f7fca50feb0>"
      ]
     },
     "execution_count": 323,
     "metadata": {},
     "output_type": "execute_result"
    },
    {
     "data": {
      "image/png": "[encoded data removed]",
      "text/plain": [
       "<Figure size 432x288 with 2 Axes>"
      ]
     },
     "metadata": {
      "needs_background": "light"
     },
     "output_type": "display_data"
    }
   ],
   "source": [
    "plt.colorbar(imshow(Inverse))\n",
    "imshow(Inverse)"
   ]
  },
  {
   "cell_type": "code",
   "execution_count": 324,
   "id": "595f9498",
   "metadata": {},
   "outputs": [
    {
     "data": {
      "text/plain": [
       "<matplotlib.image.AxesImage at 0x7f7fca50efb0>"
      ]
     },
     "execution_count": 324,
     "metadata": {},
     "output_type": "execute_result"
    },
    {
     "data": {
      "image/png": "[encoded data removed]",
      "text/plain": [
       "<Figure size 432x288 with 2 Axes>"
      ]
     },
     "metadata": {
      "needs_background": "light"
     },
     "output_type": "display_data"
    }
   ],
   "source": [
    "plt.colorbar(imshow(SquareAmp))\n",
    "imshow(SquareAmp)"
   ]
  },
  {
   "cell_type": "code",
   "execution_count": 325,
   "id": "53077914",
   "metadata": {},
   "outputs": [
    {
     "data": {
      "text/plain": [
       "<matplotlib.image.AxesImage at 0x7f7fca5c86a0>"
      ]
     },
     "execution_count": 325,
     "metadata": {},
     "output_type": "execute_result"
    },
    {
     "data": {
      "image/png": "[encoded data removed]",
      "text/plain": [
       "<Figure size 432x288 with 2 Axes>"
      ]
     },
     "metadata": {
      "needs_background": "light"
     },
     "output_type": "display_data"
    }
   ],
   "source": [
    "plt.colorbar(imshow(A_noise))\n",
    "imshow(A_noise)"
   ]
  },
  {
   "cell_type": "code",
   "execution_count": 326,
   "id": "6df235d2",
   "metadata": {},
   "outputs": [
    {
     "data": {
      "text/plain": [
       "<matplotlib.image.AxesImage at 0x7f7f9a674820>"
      ]
     },
     "execution_count": 326,
     "metadata": {},
     "output_type": "execute_result"
    },
    {
     "data": {
      "image/png": "[encoded data removed]",
      "text/plain": [
       "<Figure size 432x288 with 2 Axes>"
      ]
     },
     "metadata": {
      "needs_background": "light"
     },
     "output_type": "display_data"
    }
   ],
   "source": [
    "plt.colorbar(imshow(A_noise1))\n",
    "imshow(A_noise1)"
   ]
  },
  {
   "cell_type": "code",
   "execution_count": 327,
   "id": "025c9b8f",
   "metadata": {},
   "outputs": [],
   "source": [
    "#Third take on A_noise, gives wacky plot \n",
    "#n=np.arange(len(Hitmap))\n",
    "#frequency=n/(len(Hitmap)/50)#this must be changed as the number of cells are changed \n",
    "#Freq=np.sin(frequency)\n",
    "#print(Freq)\n",
    "\n",
    "#A_n = Hitmap /Freq\n",
    "#print(A_n)"
   ]
  },
  {
   "cell_type": "code",
   "execution_count": 328,
   "id": "8372f1be",
   "metadata": {},
   "outputs": [],
   "source": [
    "#plt.colorbar(imshow(A_n))\n",
    "#imshow(A_n)"
   ]
  },
  {
   "cell_type": "code",
   "execution_count": 329,
   "id": "f51a38eb",
   "metadata": {},
   "outputs": [],
   "source": [
    "#Noiseish = A_noise * Hitmap \n",
    "#Noi=A_noise + Hitmap\n",
    "\n",
    "#print(Noiseish)\n",
    "\n",
    "#this seems to be too uniform?\n",
    "#plt.colorbar(imshow(Noiseish))\n",
    "#imshow(Noiseish)"
   ]
  },
  {
   "cell_type": "code",
   "execution_count": 330,
   "id": "4cfea08b",
   "metadata": {},
   "outputs": [],
   "source": [
    "#plt.colorbar(imshow(Noi))\n",
    "#imshow(Noi)"
   ]
  },
  {
   "cell_type": "code",
   "execution_count": 331,
   "id": "be77cf77",
   "metadata": {},
   "outputs": [],
   "source": [
    "#I forgot what I wanted to do, but something along the lines of \n",
    "#taking each singilar array and turning them into a graph?? #commenting it out for now\n",
    "##append the hitmap and a_noise into an array of zeros, and take each value and plot \n",
    "#x=np.zeros([Hitmap,A_noise1])\n",
    "#for i in range(0,len(Noiseish)): \n",
    " #   print(Noiseish[i])"
   ]
  },
  {
   "cell_type": "code",
   "execution_count": 340,
   "id": "118ff8b1",
   "metadata": {},
   "outputs": [],
   "source": [
    "#Theoretically, this is the noisemap function  #using A_noise1\n",
    "def Noisemap(Hitmap,A_noise): \n",
    "    Inital = A_noise * np.random.normal(M,length) #I think something went wrong in this calculation \n",
    "    Final = np.abs(Inital//Hitmap)\n",
    "    print(Noisemap)\n",
    "    print(Final)\n",
    "    plt.colorbar(imshow(Final))\n",
    "    imshow(Final)"
   ]
  },
  {
   "cell_type": "code",
   "execution_count": 341,
   "id": "da170f45",
   "metadata": {},
   "outputs": [
    {
     "name": "stdout",
     "output_type": "stream",
     "text": [
      "<function Noisemap at 0x7f7fab293520>\n",
      "[[ 233.   18.   56.    8.  102.]\n",
      " [ 872.   85.  415.  287.  252.]\n",
      " [1488.   26.  197.   69.  274.]\n",
      " [   8.    0.    5.    2.    9.]\n",
      " [ 179.   11.   35.   35.  172.]]\n"
     ]
    },
    {
     "data": {
      "image/png": "[encoded data removed]",
      "text/plain": [
       "<Figure size 432x288 with 2 Axes>"
      ]
     },
     "metadata": {
      "needs_background": "light"
     },
     "output_type": "display_data"
    }
   ],
   "source": [
    "#calling the function \n",
    "Noisemap(Hitmap,A_noise)"
   ]
  },
  {
   "cell_type": "code",
   "execution_count": 334,
   "id": "22bcaffe",
   "metadata": {},
   "outputs": [
    {
     "name": "stdout",
     "output_type": "stream",
     "text": [
      "[[1.15460367e+03 4.23871919e+01 1.85201066e+02 4.54101335e+01\n",
      "  3.82512819e+02]\n",
      " [5.18359355e+03 1.04608528e+02 8.09806746e+02 2.40768376e+02\n",
      "  1.65537056e+03]\n",
      " [4.99907988e+03 9.62689014e+01 7.95474094e+02 2.47782006e+02\n",
      "  1.62928059e+03]\n",
      " [3.73810513e+01 2.17144554e+00 2.35439547e+01 9.85331084e+00\n",
      "  4.67869763e+01]\n",
      " [5.40212749e+02 2.01855412e+01 9.39766023e+01 1.89046121e+01\n",
      "  1.85533976e+02]]\n"
     ]
    }
   ],
   "source": [
    "Initala = np.abs(A_noise*np.random.normal(M,length))\n",
    "print(Initala)"
   ]
  },
  {
   "cell_type": "code",
   "execution_count": 335,
   "id": "432a6ed0",
   "metadata": {},
   "outputs": [
    {
     "data": {
      "text/plain": [
       "<matplotlib.image.AxesImage at 0x7f7fca661cc0>"
      ]
     },
     "execution_count": 335,
     "metadata": {},
     "output_type": "execute_result"
    },
    {
     "data": {
      "image/png": "[encoded data removed]",
      "text/plain": [
       "<Figure size 432x288 with 2 Axes>"
      ]
     },
     "metadata": {
      "needs_background": "light"
     },
     "output_type": "display_data"
    }
   ],
   "source": [
    "plt.colorbar(imshow(Initala))\n",
    "imshow(Initala)"
   ]
  },
  {
   "cell_type": "code",
   "execution_count": 336,
   "id": "06764516",
   "metadata": {},
   "outputs": [],
   "source": [
    "#It seems that the things inside the function are the same as what is plotted here (for now) "
   ]
  },
  {
   "cell_type": "code",
   "execution_count": 337,
   "id": "cb576c58",
   "metadata": {},
   "outputs": [
    {
     "name": "stdout",
     "output_type": "stream",
     "text": [
      "[[1.6010e+03 1.2400e+02 3.8100e+02 4.8000e+01 6.9600e+02]\n",
      " [6.0030e+03 5.8600e+02 2.8530e+03 1.9700e+03 1.7290e+03]\n",
      " [1.0251e+04 1.7800e+02 1.3600e+03 4.7700e+02 1.8910e+03]\n",
      " [5.1000e+01 3.0000e+00 3.0000e+01 1.3000e+01 6.0000e+01]\n",
      " [1.2320e+03 7.0000e+01 2.4500e+02 2.4700e+02 1.1900e+03]]\n"
     ]
    },
    {
     "data": {
      "text/plain": [
       "<matplotlib.image.AxesImage at 0x7f7fca6639d0>"
      ]
     },
     "execution_count": 337,
     "metadata": {},
     "output_type": "execute_result"
    },
    {
     "data": {
      "image/png": "[encoded data removed]",
      "text/plain": [
       "<Figure size 432x288 with 2 Axes>"
      ]
     },
     "metadata": {
      "needs_background": "light"
     },
     "output_type": "display_data"
    }
   ],
   "source": [
    "Finala = np.abs(Initala//Hitmap)\n",
    "print(Finala)\n",
    "plt.colorbar(imshow(Finala))\n",
    "imshow(Finala)"
   ]
  },
  {
   "cell_type": "code",
   "execution_count": 338,
   "id": "47941e92",
   "metadata": {},
   "outputs": [],
   "source": [
    "#final looks the same color wise but they are on different scales, why is that?"
   ]
  },
  {
   "cell_type": "code",
   "execution_count": 339,
   "id": "13c94d2b",
   "metadata": {},
   "outputs": [
    {
     "data": {
      "text/plain": [
       "[<matplotlib.lines.Line2D at 0x7f7fa26a6950>,\n",
       " <matplotlib.lines.Line2D at 0x7f7fa26a69b0>,\n",
       " <matplotlib.lines.Line2D at 0x7f7fa26a6ad0>]"
      ]
     },
     "execution_count": 339,
     "metadata": {},
     "output_type": "execute_result"
    },
    {
     "data": {
      "image/png": "[encoded data removed]",
      "text/plain": [
       "<Figure size 432x288 with 1 Axes>"
      ]
     },
     "metadata": {
      "needs_background": "light"
     },
     "output_type": "display_data"
    }
   ],
   "source": [
    "#some random code to get a normal dist. \n",
    "FT1=np.fft.rfft(Hitmap)#another FFT\n",
    "AB1=np.abs(FT1)#another absolute value\n",
    "Power_Spec=np.square(AB1)#squaring the values after taking abs\n",
    "Amp_n=np.sqrt(Power_Spec) #another take on A_noise\n",
    "\n",
    "#imshow(Power_Spec)\n",
    "FEQ=np.linspace(0,25,len(Power_Spec)) #start at zero, second number is n/2 where n is matrix input \n",
    "\n",
    "#plot of the power spectrum \n",
    "plt.plot(FEQ,Power_Spec)"
   ]
  },
  {
   "cell_type": "code",
   "execution_count": null,
   "id": "e936cce2",
   "metadata": {},
   "outputs": [],
   "source": []
  }
 ],
 "metadata": {
  "kernelspec": {
   "display_name": "Python 3 (ipykernel)",
   "language": "python",
   "name": "python3"
  },
  "language_info": {
   "codemirror_mode": {
    "name": "ipython",
    "version": 3
   },
   "file_extension": ".py",
   "mimetype": "text/x-python",
   "name": "python",
   "nbconvert_exporter": "python",
   "pygments_lexer": "ipython3",
   "version": "3.10.4"
  }
 },
 "nbformat": 4,
 "nbformat_minor": 5
}
