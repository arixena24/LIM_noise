{
 "cells": [
  {
   "cell_type": "code",
   "execution_count": 1,
   "metadata": {},
   "outputs": [],
   "source": [
    "import numpy as np\n",
    "import matplotlib.pyplot as plt\n",
    "import astropy as astro \n",
    "import pandas as pd\n",
    "%matplotlib inline"
   ]
  },
  {
   "cell_type": "code",
   "execution_count": 2,
   "metadata": {},
   "outputs": [],
   "source": [
    "from pylab import imshow\n",
    "from numpy import random\n",
    "from PIL import Image\n",
    "from numpy.linalg import inv\n",
    "from __future__ import division"
   ]
  },
  {
   "cell_type": "code",
   "execution_count": 3,
   "metadata": {},
   "outputs": [],
   "source": [
    "#hitsmap part \n",
    "#Hitmap=np.random.rand(500,500) #generate random array and graph \n",
    "#np.clip(Hitmap,0,1) #range for hitmap\n",
    "#Hitmap=[[0.22,0.84,0.55],[0.41,0.06,0.67],[0.90,0.72,0.33]]\n",
    "Hitmap=[[0.22,0.84,0.57,0.46,0.93],[0.41,0.06,0.72,0.38,0.16],[0.91,0.38,0.67,0.99,0.44],[0.74,0.93,0.62,0.27,0.46],[0.74,0.35,0.85,0.65,0.38]]\n",
    "\n",
    "\n"
   ]
  },
  {
   "cell_type": "code",
   "execution_count": 4,
   "metadata": {},
   "outputs": [
    {
     "name": "stdout",
     "output_type": "stream",
     "text": [
      "Array of Hitmap [[0.22, 0.84, 0.57, 0.46, 0.93], [0.41, 0.06, 0.72, 0.38, 0.16], [0.91, 0.38, 0.67, 0.99, 0.44], [0.74, 0.93, 0.62, 0.27, 0.46], [0.74, 0.35, 0.85, 0.65, 0.38]]\n"
     ]
    },
    {
     "data": {
      "image/png": "[encoded data removed]",
      "text/plain": [
       "<Figure size 432x288 with 2 Axes>"
      ]
     },
     "metadata": {
      "needs_background": "light"
     },
     "output_type": "display_data"
    }
   ],
   "source": [
    "plt.colorbar(imshow(Hitmap))\n",
    "imshow(Hitmap)\n",
    "print('Array of Hitmap',Hitmap)"
   ]
  },
  {
   "cell_type": "code",
   "execution_count": 5,
   "metadata": {},
   "outputs": [
    {
     "name": "stdout",
     "output_type": "stream",
     "text": [
      "Length of Hitmap 5\n",
      "Mean of Hitmap 0.5652\n"
     ]
    }
   ],
   "source": [
    "length=len(Hitmap)\n",
    "print('Length of Hitmap',length)\n",
    "#M=np.mean(Hitmap)#mean \n",
    "print('Mean of Hitmap',M)"
   ]
  },
  {
   "cell_type": "code",
   "execution_count": 6,
   "metadata": {},
   "outputs": [],
   "source": [
    "#rand=np.random.rand(5,5)#change to match Hitmap dimensions \n",
    "#np.clip(rand,0,1) #range of random values\n",
    "#A_noise=np.abs(M*rand)#Noise is the mean times a random array, must be changed as Hitmap changes \n",
    "#print('A_noise',A_noise)"
   ]
  },
  {
   "cell_type": "code",
   "execution_count": 24,
   "metadata": {},
   "outputs": [],
   "source": [
    "rand=np.random.rand(5,5)#change to match Hitmap dimensions \n",
    "M=np.mean(rand)\n",
    "A_noise=M*rand#Noise is the mean times a random array, must be changed as Hitmap changes "
   ]
  },
  {
   "cell_type": "code",
   "execution_count": 25,
   "metadata": {},
   "outputs": [
    {
     "name": "stdout",
     "output_type": "stream",
     "text": [
      "A_noise [[0.50589436 0.13246712 0.22012267 0.53920561 0.03273851]\n",
      " [0.12618858 0.17505971 0.34564946 0.42174681 0.45830766]\n",
      " [0.53079174 0.45715395 0.27761598 0.14213204 0.03024138]\n",
      " [0.15719904 0.21359008 0.44102381 0.04041986 0.14782956]\n",
      " [0.52946482 0.51538357 0.23863318 0.20546889 0.45499217]]\n",
      "0.5418236087762276\n"
     ]
    },
    {
     "data": {
      "image/png": "[encoded data removed]",
      "text/plain": [
       "<Figure size 432x288 with 2 Axes>"
      ]
     },
     "metadata": {
      "needs_background": "light"
     },
     "output_type": "display_data"
    }
   ],
   "source": [
    "plt.colorbar(imshow(A_noise))\n",
    "imshow(A_noise)\n",
    "print('A_noise',A_noise)\n",
    "print(M)"
   ]
  },
  {
   "cell_type": "code",
   "execution_count": 9,
   "metadata": {},
   "outputs": [],
   "source": [
    "#def Noisemap(Hitmap,A_noise): \n",
    " #   norm=np.random.normal(M,length)\n",
    "  #  np.clip(norm,0,1) \n",
    "   # Inital = np.abs(A_noise * norm)\n",
    "    #Final = np.abs(Inital/Hitmap)\n",
    "    #print('Inital',Inital)\n",
    "    #print('Final',Final)   \n",
    "    #plt.colorbar(imshow(Final))\n",
    "    #imshow(Final)"
   ]
  },
  {
   "cell_type": "code",
   "execution_count": 10,
   "metadata": {},
   "outputs": [],
   "source": [
    "def Noisemap(Hitmap,A_noise): \n",
    "    rand=np.random.rand(5,5) #random array \n",
    "    np.clip(rand,0,1) \n",
    "    print('rand',rand)\n",
    "    Inital=A_noise*rand\n",
    "    Final=np.abs(Inital/Hitmap)\n",
    "    print('Inital',Inital)\n",
    "    print('Noisemap',Final)\n",
    "    plt.colorbar(imshow(Final))\n",
    "    imshow(Final)"
   ]
  },
  {
   "cell_type": "code",
   "execution_count": 11,
   "metadata": {},
   "outputs": [
    {
     "name": "stdout",
     "output_type": "stream",
     "text": [
      "rand [[0.81435866 0.7837485  0.47065778 0.74713461 0.53215531]\n",
      " [0.54681173 0.56619491 0.74083204 0.8206964  0.6442897 ]\n",
      " [0.72137061 0.09641586 0.30319735 0.44576247 0.02492551]\n",
      " [0.055257   0.43016838 0.26796593 0.0897161  0.36539896]\n",
      " [0.11713604 0.89892605 0.16865379 0.09128126 0.21626475]]\n",
      "Inital [[0.41858389 0.35909364 0.00095549 0.06942967 0.14497204]\n",
      " [0.23248875 0.08499236 0.0558774  0.34249824 0.10430773]\n",
      " [0.38936264 0.004579   0.1661666  0.20632597 0.00742021]\n",
      " [0.00587153 0.0990415  0.09587147 0.04577626 0.19450033]\n",
      " [0.04627793 0.12837215 0.09098121 0.01093561 0.03958701]]\n",
      "Noisemap [[1.90265405e+00 4.27492433e-01 1.67630685e-03 1.50934055e-01\n",
      "  1.55883914e-01]\n",
      " [5.67045736e-01 1.41653931e+00 7.76074960e-02 9.01311156e-01\n",
      "  6.51923318e-01]\n",
      " [4.27871035e-01 1.20500054e-02 2.48009856e-01 2.08410067e-01\n",
      "  1.68641211e-02]\n",
      " [7.93450383e-03 1.06496237e-01 1.54631398e-01 1.69541712e-01\n",
      "  4.22826811e-01]\n",
      " [6.25377463e-02 3.66777561e-01 1.07036722e-01 1.68240107e-02\n",
      "  1.04176329e-01]]\n"
     ]
    },
    {
     "data": {
      "image/png": "[encoded data removed]",
      "text/plain": [
       "<Figure size 432x288 with 2 Axes>"
      ]
     },
     "metadata": {
      "needs_background": "light"
     },
     "output_type": "display_data"
    }
   ],
   "source": [
    "Noisemap(Hitmap,A_noise)"
   ]
  },
  {
   "cell_type": "code",
   "execution_count": null,
   "metadata": {},
   "outputs": [],
   "source": []
  }
 ],
 "metadata": {
  "kernelspec": {
   "display_name": "Python 3",
   "language": "python",
   "name": "python3"
  },
  "language_info": {
   "codemirror_mode": {
    "name": "ipython",
    "version": 3
   },
   "file_extension": ".py",
   "mimetype": "text/x-python",
   "name": "python",
   "nbconvert_exporter": "python",
   "pygments_lexer": "ipython3",
   "version": "3.8.5"
  }
 },
 "nbformat": 4,
 "nbformat_minor": 5
}
